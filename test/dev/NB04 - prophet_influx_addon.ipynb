{
 "cells": [
  {
   "cell_type": "markdown",
   "metadata": {},
   "source": [
    "# Librería FB Prophet aplicada a datos de energía consultados en InfluxDB con el Addon para Home Assistant **Prophet InfluxDB Addon**\n",
    "Este documento ha sido utilizado para probar paso a paso las funciones implementadas en `main.py` del complemento para Home Assistant **Prophet InfluxDB Addon**.\n",
    "Finalmente se va a comprobar el correcto funcionamiento de la implementación que se ha hecho en el contenedor Docker que será necesario tener instalado en Home Assistant para poder hacer uso de la librería Prophet y que no ha sido posible ejecutar directamente en el custom component en equipos que corren Home Assistant OS.\n",
    "\n",
    "El resultado de este desarrollo queda finalmente expuesto en \n",
    "https://github.com/mgenrique/hassos_prophet_addon\n",
    "\n",
    "Las pruebas se van a realizar sobre los dos sensores que nos proporcionan el consumo de la vivienda en el caso de sistemas Victron Energy con dispositivos GX:\n",
    "- Consumo acin to acout: \"sensor.victron_vebus_acin1toacout_228\" (En influx se encuentra en `victron_vebus_acin1toacout_228`)\n",
    "- Consumo inverter to ac out: \"sensor.victron_vebus_invertertoacout_228\" (En influx se encuentra en `victron_vebus_invertertoacout_228`)\n"
   ]
  },
  {
   "cell_type": "code",
   "execution_count": null,
   "metadata": {},
   "outputs": [],
   "source": [
    "\n",
    "from influxdb import InfluxDBClient\n",
    "import logging\n",
    "import numpy as np\n",
    "import pandas as pd\n",
    "from prophet import Prophet\n",
    "\n",
    "host = \"192.168.0.100\"\n",
    "port = 8086\n",
    "user = \"homeassistant\"\n",
    "password = \"xxxxx\"\n",
    "dbname = \"homeassistant\"\n"
   ]
  },
  {
   "cell_type": "markdown",
   "metadata": {},
   "source": [
    "## Definir funciones que simulan el funcionamiento del Custom Component de Home Assistant\n",
    "Resultará conveniente que las siguientes funciones formen parte del custom component para facilitar la creación de consultas a InfluxQL en un formato adecuado.\n",
    "Estas funciones también se incluyen como parte del script `test.py` facilitado en el repositorio que sirve de ayuda para la utilización del addon.\n"
   ]
  },
  {
   "cell_type": "code",
   "execution_count": 516,
   "metadata": {},
   "outputs": [],
   "source": [
    "import pytz\n",
    "from datetime import datetime, timedelta    \n",
    "class_local_timezone=pytz.timezone('Europe/Madrid')\n",
    "       \n",
    "def format_date_for_influxdb( date) -> str:\n",
    "    \"\"\"\n",
    "    Return a date and time with timezone information in the format '2024-10-01T00:00:00Z' (UTC timezone).\n",
    "    \"\"\"\n",
    "    date = pd.to_datetime(date)\n",
    "    # Check if date has a localized time\n",
    "    if date.tzinfo is None:\n",
    "        if class_local_timezone is None:\n",
    "            date_tz = 'Europe/Madrid'        \n",
    "            date = date.tz_localize(date_tz)\n",
    "        else:\n",
    "            date = date.tz_localize(class_local_timezone)\n",
    "    # Localize the date and time to the UTC timezone\n",
    "    # date = await asyncio.to_thread(date.tz_convert, 'UTC')\n",
    "    date = date.tz_convert('UTC')\n",
    "    # Format the date in ISO 8601 format\n",
    "    date = date.strftime('%Y-%m-%dT%H:%M:%SZ')\n",
    "    return date\n",
    "\n",
    "def energy_query_string(entity_id, start: str | None = None, end: str | None = None) -> str:\n",
    "    \"\"\"Create the SQL query string for energy data.\"\"\"\n",
    "    if start is not None:\n",
    "        # start = await self.format_date_for_influxdb(start)\n",
    "        start = format_date_for_influxdb(start)\n",
    "    if end is not None:\n",
    "        # end = await self.format_date_for_influxdb(end)\n",
    "        end = format_date_for_influxdb(end)\n",
    "    # If start and end are not specified, return all data\n",
    "    if start is None and end is None:\n",
    "        query = \"\"\"SELECT last(\"value\") AS \"energy_kWh\" FROM \"kWh\" WHERE \"entity_id\"='{}' GROUP BY time(1h) fill(previous)\"\"\".format(entity_id)\n",
    "    elif start is None:\n",
    "        query = \"\"\"SELECT last(\"value\") AS \"energy_kWh\" FROM \"kWh\" WHERE (time <= '{}') AND \"entity_id\"='{}' GROUP BY time(1h) fill(previous)\"\"\".format(end, entity_id) \n",
    "    elif end is None:\n",
    "        query = \"\"\"SELECT last(\"value\") AS \"energy_kWh\" FROM \"kWh\" WHERE (time >= '{}') AND \"entity_id\"='{}' GROUP BY time(1h) fill(previous)\"\"\".format(start, entity_id)   \n",
    "    else:\n",
    "        query = \"\"\"SELECT last(\"value\") AS \"energy_kWh\" FROM \"kWh\" WHERE (time >= '{}') AND (time <= '{}') AND \"entity_id\"='{}' GROUP BY time(1h) fill(previous)\"\"\".format(start, end, entity_id)\n",
    "    return query   "
   ]
  },
  {
   "cell_type": "markdown",
   "metadata": {},
   "source": [
    "## Estrategía general\n",
    "Dado que influxDB trabaja siempre con fechas localizadas con timezone UTC y Prophet no permite que las fechas tengan información de TimeZone, se debe plantear una estrategia para alinear correctamente las fechas:\n",
    "- La función `format_date_for_influxdb` se encarga de asignar un timezone a una fecha para finalmente devolver la fecha con timezone 'UTC'. Si le llega una fecha sin timezone entiende que se refiere al timezone local. El timezone local es el correspondiente a la máquina que corre Home Assistant, y en el custom component esta información se ha almacenado en `self.class_local_timezone` en la inicialización del coordinador. En un custom component cualquiera, el string del timezone de la máquina puede obtenerse de `hass.config.time_zone`. Posteriormente este string puede ser convertido mediante `class_local_timezone=pytz.timezone(hass.config.time_zone)`.\n",
    "- El custom component generará consultas utilizando `energy_query_string`. El formato de fechas que se pasará a `energy_query_string` en principio deberán ser fechas con timezone, sin embargo, dado que esta función llama a la función `format_date_for_influxdb`, aunque se pasen las fechas sin timezone, la consulta se construirá con rangos de fechas con timezone UTC, que es lo que requiere InfluxDB.\n",
    "- Una vez construida la consulta, utilizando `client=InfluxDBClient(...)` se establecerá la conexión con InfluxDB y se realizará la consulta mediante `result = client.query(str_query)`. Esto devolverá un json donde las fechas llegarán como strings con timezone UTC.\n",
    "- El json `result` se extrae al diccionario `points` mediante `points = list(result.get_points())`. Este diccionario tendrá como clave los string con las fechas localizadas en UTC.\n",
    "- Será necesario generar un dataframe de Pandas ya que se va a realizar operaciones para las que resulta conveniente operar con dataframes. El dataframe se genera mediante `df1 = delta_energy_dataframe(points)`. \n",
    "- La función `delta_energy_dataframe(points)` se encarga de convertir un diccionario con valores absolutos de energía acumulada, en valores diferenciales en cada intervalo (delta). Esto conlleva la perdida de la primera fecha. Los valores delta son devueltos convertidos en un dataframe donde el índice es la fecha, todavía con información de timezone UTC que llegó en `points`. Las instrucciones son una primera aproximación a lo que podría ser `delta_energy_dataframe(points)`:\n",
    "```python\n",
    "df = pd.DataFrame(points)\n",
    "df['time'] = pd.to_datetime(df['time']).dt.tz_localize(None) # Eliminate the timezone for Prophet\n",
    "df.set_index('time', inplace=True)\n",
    "first_index = df['energy_kWh'].first_valid_index() # first index where the value is not NaN\n",
    "first_value = df.loc[first_index, 'energy_kWh'] # first value that is not NaN\n",
    "mask = df.index < first_index # records before the first non-NaN value\n",
    "df.loc[mask, 'energy_kWh'] = first_value  # Fill NaN values with first_value\n",
    "df['delta_energy'] = df['energy_kWh'].diff() # Calculate the difference between consecutive values\n",
    "# Remove the first row of the DataFrame (the hourly difference of the first record does not make sense)\n",
    "df = df.dropna()\n",
    "# If there has been any counter reset, the difference will be negative\n",
    "mask = df['delta_energy'] < 0\n",
    "df.loc[mask, 'delta_energy'] = 0 # In those cases, set the difference to 0\n",
    "return df\n",
    "```\n",
    "- La llamada a `delta_energy_dataframe(points)` se realiza dos veces si `str_query2 is not None`. En este caso tendremos df1 y df2 y se sumarán mediante la sucesión de instrucciones:\n",
    "```python\n",
    "df = pd.merge(df1, df2, left_index=True, right_index=True, how='outer')\n",
    "df['delta_energy'] = df['delta_energy_x'].fillna(0) + df['delta_energy_y'].fillna(0)\n",
    "df['delta_energy'] = df['delta_energy'].fillna(0) \n",
    "df.reset_index(inplace=True)                 \n",
    "df = df[['time', 'delta_energy']]\n",
    "```\n",
    "- Con el df resultante se entrenará el modelo Prophet, será la siguiente sucesión de instrucciones:\n",
    "```python\n",
    "df.columns = ['ds', 'y']\n",
    "df['ds'] = pd.to_datetime(df['ds']).dt.tz_localize(None) # Se ha hecho en delta_energy_dataframe\n",
    "model = Prophet()\n",
    "model.fit(df)\n",
    "```\n",
    "- Una vez entrenado el modelo, se genera un nuevo dataframe `future` que especifica `futurePeriods` adicionales para realizar las previsiones. \n",
    "```python\n",
    "future = model.make_future_dataframe(periods=futurePeriods, freq=futureFreq)\n",
    "```\n",
    "- A partir de `future` se genera finalmente el dataframe `forecast` que contiene todo el rango de datos, es decir, tanto los datos del entrenamiento como los futurePeriods siguientes al periodo de entrenamiento y que por tanto son la predicción buscada. En primer lugar se recorta el datframe mediante `forecast=forecast.tail(futurePeriods)`. Este dataframe requiere incorporar la información del timezone para que cuando regrese al custom component sea posible darle utilidad. Este trabajo que se realiza dentro del contenedor Docker, no tiene acceso a la zona horaria local por lo que la mejor opción es devolver los datos en UTC. El servidor FastAPI enviará los resultados al usuario en formato json que obtendrá del diccionario generado en `response`\n",
    "```python\n",
    "forecast = model.predict(future)\n",
    "forecast=forecast.tail(futurePeriods)\n",
    "forecast['ds'] = pd.to_datetime(forecast['ds']).dt.tz_localize('UTC')\n",
    "forecast = forecast.set_index('ds')\n",
    "response = forecast.to_dict()['yhat']\n",
    "```\n",
    "\n",
    "En los apartados siguientes se irá probando está estrategia y se justificará porque finalmente no se adopta exactamente como estaba planteada inicialmente."
   ]
  },
  {
   "cell_type": "markdown",
   "metadata": {},
   "source": [
    "## Comprobar el funcionamiento de `format_date_for_influxdb`"
   ]
  },
  {
   "cell_type": "code",
   "execution_count": 517,
   "metadata": {},
   "outputs": [
    {
     "name": "stdout",
     "output_type": "stream",
     "text": [
      "2024-10-01\n",
      "2024-09-30T22:00:00Z\n"
     ]
    }
   ],
   "source": [
    "# Prueba de format_date_for_influxdb\n",
    "date = '2024-10-01' #Fecha sin zona horaria ni horas o minutos o segundos, por lo que se asume T00:00:00\n",
    "print(date)\n",
    "new_date = format_date_for_influxdb(date)\n",
    "print(new_date)"
   ]
  },
  {
   "cell_type": "code",
   "execution_count": 518,
   "metadata": {},
   "outputs": [
    {
     "name": "stdout",
     "output_type": "stream",
     "text": [
      "2024-10-01T00:00:00\n",
      "2024-09-30T22:00:00Z\n"
     ]
    }
   ],
   "source": [
    "# Prueba de format_date_for_influxdb\n",
    "date = '2024-10-01T00:00:00' #Fecha sin zona horaria\n",
    "print(date)\n",
    "new_date = format_date_for_influxdb(date)\n",
    "print(new_date)\n"
   ]
  },
  {
   "cell_type": "code",
   "execution_count": 519,
   "metadata": {},
   "outputs": [
    {
     "name": "stdout",
     "output_type": "stream",
     "text": [
      "2024-11-08 23:04:16.252660\n",
      "2024-11-08T22:04:16Z\n"
     ]
    }
   ],
   "source": [
    "# Prueba de format_date_for_influxdb\n",
    "date = datetime.now() #Fecha sin zona horaria\n",
    "print(date)\n",
    "new_date = format_date_for_influxdb(date)\n",
    "print(new_date)"
   ]
  },
  {
   "cell_type": "code",
   "execution_count": 520,
   "metadata": {},
   "outputs": [
    {
     "name": "stdout",
     "output_type": "stream",
     "text": [
      "<bound method DstTzInfo.tzname of <DstTzInfo 'Europe/Madrid' LMT-1 day, 23:45:00 STD>>\n",
      "2024-11-08 23:04:16.282291+01:00\n",
      "2024-11-08T22:04:16Z\n"
     ]
    }
   ],
   "source": [
    "# Prueba de format_date_for_influxdb\n",
    "print(class_local_timezone.tzname)\n",
    "date = datetime.now(class_local_timezone) #Fecha con zona horaria\n",
    "print(date)\n",
    "new_date = format_date_for_influxdb(date)\n",
    "print(new_date)"
   ]
  },
  {
   "cell_type": "code",
   "execution_count": 521,
   "metadata": {},
   "outputs": [
    {
     "name": "stdout",
     "output_type": "stream",
     "text": [
      "2024-11-08 17:04:16.307873-05:00\n"
     ]
    }
   ],
   "source": [
    "class_local_timezone=pytz.timezone('America/New_York')\n",
    "date = datetime.now(class_local_timezone) #Fecha con zona horaria\n",
    "print(date)"
   ]
  },
  {
   "cell_type": "markdown",
   "metadata": {},
   "source": [
    "Como se observa la fecha ahora sí tiene información de timezone (-05:00) Esto se puede comprobar mediante `if date.tzinfo is None:`"
   ]
  },
  {
   "cell_type": "code",
   "execution_count": 522,
   "metadata": {},
   "outputs": [
    {
     "name": "stdout",
     "output_type": "stream",
     "text": [
      "Tiene zona horaria\n"
     ]
    }
   ],
   "source": [
    "if date.tzinfo is None:\n",
    "    print(\"No tiene zona horaria\")\n",
    "else:\n",
    "    print(\"Tiene zona horaria\")"
   ]
  },
  {
   "cell_type": "markdown",
   "metadata": {},
   "source": [
    "A la función `format_date_for_influxdb` también se le pueden pasar fechas localizadas y las devolverá en UTC y eliminado los deciamles de los segundos que no serán relevantes para realizar la consulta de energía"
   ]
  },
  {
   "cell_type": "code",
   "execution_count": 523,
   "metadata": {},
   "outputs": [
    {
     "name": "stdout",
     "output_type": "stream",
     "text": [
      "2024-11-08T22:04:16Z\n"
     ]
    }
   ],
   "source": [
    "new_date = format_date_for_influxdb(date)\n",
    "print(new_date)"
   ]
  },
  {
   "cell_type": "markdown",
   "metadata": {},
   "source": [
    "Cuando una fecha ya tiene información de zona horaria, no se puede localizar, solo se puede convertir. Por tanto lo siguiente genera un error."
   ]
  },
  {
   "cell_type": "code",
   "execution_count": 524,
   "metadata": {},
   "outputs": [],
   "source": [
    "# Descomentar para provocar un error para ilustrar que las fechas ya localizadas no se pueden volver a localizar\n",
    "date = pd.to_datetime(date)\n",
    "# date = date.tz_localize('America/New_York')"
   ]
  },
  {
   "cell_type": "markdown",
   "metadata": {},
   "source": [
    "Podemos localizar date en otra zona horaria"
   ]
  },
  {
   "cell_type": "code",
   "execution_count": 525,
   "metadata": {},
   "outputs": [
    {
     "name": "stdout",
     "output_type": "stream",
     "text": [
      "'America/New_York': 2024-11-08 17:04:16.307873-05:00\n",
      "'UTC': 2024-11-08 22:04:16.307873+00:00\n",
      "'Europe/Madrid': 2024-11-08 23:04:16.307873+01:00\n"
     ]
    }
   ],
   "source": [
    "print(f\"'America/New_York': {date}\")\n",
    "# Para poder usar tz_convert date debe ser un objeto de tipo Timestamp\n",
    "date = pd.to_datetime(date)\n",
    "date = date.tz_convert('UTC')\n",
    "print(f\"'UTC': {date}\")\n",
    "class_local_timezone=pytz.timezone('Europe/Madrid')\n",
    "date = date.tz_convert(class_local_timezone)\n",
    "print(f\"'Europe/Madrid': {date}\")"
   ]
  },
  {
   "cell_type": "code",
   "execution_count": 526,
   "metadata": {},
   "outputs": [
    {
     "name": "stdout",
     "output_type": "stream",
     "text": [
      "2024-11-08T22:04:16Z\n"
     ]
    }
   ],
   "source": [
    "new_date = format_date_for_influxdb(date)\n",
    "print(new_date)"
   ]
  },
  {
   "cell_type": "markdown",
   "metadata": {},
   "source": [
    "## Prueba de la función `energy_query_string`\n",
    "def energy_query_string(entity_id, start: str | None = None, end: str | None = None) -> str:"
   ]
  },
  {
   "cell_type": "code",
   "execution_count": 527,
   "metadata": {},
   "outputs": [
    {
     "data": {
      "text/plain": [
       "'SELECT last(\"value\") AS \"energy_kWh\" FROM \"kWh\" WHERE \"entity_id\"=\\'victron_vebus_acin1toacout_228\\' GROUP BY time(1h) fill(previous)'"
      ]
     },
     "execution_count": 527,
     "metadata": {},
     "output_type": "execute_result"
    }
   ],
   "source": [
    "str_query1 = energy_query_string('victron_vebus_acin1toacout_228') # Sin especificar fechas\n",
    "str_query1"
   ]
  },
  {
   "cell_type": "code",
   "execution_count": 528,
   "metadata": {},
   "outputs": [
    {
     "data": {
      "text/plain": [
       "'SELECT last(\"value\") AS \"energy_kWh\" FROM \"kWh\" WHERE (time <= \\'2024-11-08T22:04:16Z\\') AND \"entity_id\"=\\'victron_vebus_acin1toacout_228\\' GROUP BY time(1h) fill(previous)'"
      ]
     },
     "execution_count": 528,
     "metadata": {},
     "output_type": "execute_result"
    }
   ],
   "source": [
    "\n",
    "str_query1 = energy_query_string('victron_vebus_acin1toacout_228',end=new_date) # Con fecha final\n",
    "str_query1"
   ]
  },
  {
   "cell_type": "code",
   "execution_count": 529,
   "metadata": {},
   "outputs": [
    {
     "data": {
      "text/plain": [
       "'SELECT last(\"value\") AS \"energy_kWh\" FROM \"kWh\" WHERE (time >= \\'2024-11-07T22:04:16Z\\') AND (time <= \\'2024-11-08T22:04:16Z\\') AND \"entity_id\"=\\'victron_vebus_acin1toacout_228\\' GROUP BY time(1h) fill(previous)'"
      ]
     },
     "execution_count": 529,
     "metadata": {},
     "output_type": "execute_result"
    }
   ],
   "source": [
    "start=pd.to_datetime(new_date) - timedelta(days=1)\n",
    "str_query1 = energy_query_string('victron_vebus_acin1toacout_228',start=start, end=new_date) # Con fecha inicial y final\n",
    "str_query1"
   ]
  },
  {
   "cell_type": "markdown",
   "metadata": {},
   "source": [
    "## Definir el proceso analizando las instrucciones paso a paso\n",
    "Tras las pruebas realizadas en el código de los siguientes apartados se llega a la siguiente conclusión que será necesario tener en cuenta no solo para la creación del addon sino también para la utilización del mismo desde el custom component.\n",
    "**Conclusión**: La mejor forma de componer la consulta, para consultas de energía desde el custom component es especificar siempre la hora de fin igual a la hora actual.\n",
    "Esto asegura que la fecha/hora correspondiente al momento actual estará presente en el conjunto de puntos devuelto por Influx, muy probablemente con un valor NaN ya que todavía no habrá podido consolidar datos para la hora actual. De esta forma podemos asegurar que si se elimina el último registro, la primera predicción que hará Prophet sea la correspondiente a la hora actual."
   ]
  },
  {
   "cell_type": "code",
   "execution_count": 530,
   "metadata": {},
   "outputs": [
    {
     "name": "stdout",
     "output_type": "stream",
     "text": [
      "Host: 192.168.0.100, Port: 8086, User: homeassistant, Database: homeassistant\n",
      "Query: SELECT last(\"value\") AS \"energy_kWh\" FROM \"kWh\" WHERE (time <= '2024-11-08T22:04:16Z') AND \"entity_id\"='victron_vebus_acin1toacout_228' GROUP BY time(1h) fill(previous)\n"
     ]
    },
    {
     "data": {
      "text/plain": [
       "[{'time': '2024-09-27T15:00:00Z', 'energy_kWh': 94.54},\n",
       " {'time': '2024-09-27T16:00:00Z', 'energy_kWh': 94.64},\n",
       " {'time': '2024-09-27T17:00:00Z', 'energy_kWh': 94.68},\n",
       " {'time': '2024-09-27T18:00:00Z', 'energy_kWh': 94.83},\n",
       " {'time': '2024-09-27T19:00:00Z', 'energy_kWh': 94.9}]"
      ]
     },
     "execution_count": 530,
     "metadata": {},
     "output_type": "execute_result"
    }
   ],
   "source": [
    "print(f\"Host: {host}, Port: {port}, User: {user}, Database: {dbname}\")\n",
    "# Bloque comentado tras las pruebas\n",
    "# ***********************************************************************************************************************\n",
    "start='2023-09-27T15:00:00Z'\n",
    "#end='2023-10-27T15:00:00Z'\n",
    "end=datetime.now()\n",
    "# start=pd.to_datetime(end) - timedelta(days=1)\n",
    "str_query1 = energy_query_string('victron_vebus_acin1toacout_228',start=start, end=end) # Con fecha inicial y final\n",
    "#str_query1 = energy_query_string('victron_vebus_acin1toacout_228', end=end) # Con fecha final, Devuelve todo lo anterior si tiene datos, sino vació\n",
    "#str_query1 = energy_query_string('victron_vebus_acin1toacout_228') # Sin especificar fechas. Devuelve todo si tiene datos, sino vació\n",
    "# **********************************************************************************************************************\n",
    "# Conclusión final\n",
    "end=datetime.now()\n",
    "start=None # start se podría cambiar a un valor para limitar con cuantos datos se entrenará el modelo. \n",
    "# Sin embargo si se usa start se debería asegurar que hay datos después de start ya que sino rellenará con NaN. los primeros registros que finalmente convertiremos a cero\n",
    "str_query1 = energy_query_string('victron_vebus_acin1toacout_228',start=start, end=end) # Con fecha inicial=None y final\n",
    "print(f\"Query: {str_query1}\")\n",
    "client = InfluxDBClient(host=host, port=port, username=user, password=password, database=dbname)\n",
    "result = client.query(str_query1) # Si hay datos en el rango, será un conjunto de valores continuo, sin existir huecos entre fechas\n",
    "points = list(result.get_points())\n",
    "# Mostar los primeros 5 registros\n",
    "points[:5]"
   ]
  },
  {
   "cell_type": "code",
   "execution_count": 531,
   "metadata": {},
   "outputs": [
    {
     "name": "stdout",
     "output_type": "stream",
     "text": [
      "Longitud de la lista de puntos: 1016\n"
     ]
    }
   ],
   "source": [
    "# Mostrar el largo de la lista de puntos\n",
    "print(f\"Longitud de la lista de puntos: {len(points)}\")"
   ]
  },
  {
   "cell_type": "markdown",
   "metadata": {},
   "source": [
    "Se observa como a pesar de que la fecha/hora incluye minutos y segundos no se tiene en cuenta al estar la clausula `GROUP BY time(1h)` y ha devuelto también el resultado de las T13:00:00Z.\n",
    "\n",
    "Por otra parte, se debe tener en cuenta que si se han especificado ambas fechas start y end en la consulta y en este rango de fechas seleccionadas hay algún dato, la respuesta será un conjunto de datos continuo entre ambas fechas con el incremento de la clausula Group By, en este caso 1h.\n",
    "Si no hay ningún dato devuelve un dataset vacio\n",
    "\n",
    "Los datos han llegado como valores acumulados desde el último reset del contador, vamos ahora a realizar el procesamiento que será necesario para convertirlos en valores por hora utilizando dataframes."
   ]
  },
  {
   "cell_type": "code",
   "execution_count": 532,
   "metadata": {},
   "outputs": [
    {
     "data": {
      "text/html": [
       "<div>\n",
       "<style scoped>\n",
       "    .dataframe tbody tr th:only-of-type {\n",
       "        vertical-align: middle;\n",
       "    }\n",
       "\n",
       "    .dataframe tbody tr th {\n",
       "        vertical-align: top;\n",
       "    }\n",
       "\n",
       "    .dataframe thead th {\n",
       "        text-align: right;\n",
       "    }\n",
       "</style>\n",
       "<table border=\"1\" class=\"dataframe\">\n",
       "  <thead>\n",
       "    <tr style=\"text-align: right;\">\n",
       "      <th></th>\n",
       "      <th>time</th>\n",
       "      <th>energy_kWh</th>\n",
       "    </tr>\n",
       "  </thead>\n",
       "  <tbody>\n",
       "    <tr>\n",
       "      <th>1011</th>\n",
       "      <td>2024-11-08T18:00:00Z</td>\n",
       "      <td>98.65</td>\n",
       "    </tr>\n",
       "    <tr>\n",
       "      <th>1012</th>\n",
       "      <td>2024-11-08T19:00:00Z</td>\n",
       "      <td>98.80</td>\n",
       "    </tr>\n",
       "    <tr>\n",
       "      <th>1013</th>\n",
       "      <td>2024-11-08T20:00:00Z</td>\n",
       "      <td>99.25</td>\n",
       "    </tr>\n",
       "    <tr>\n",
       "      <th>1014</th>\n",
       "      <td>2024-11-08T21:00:00Z</td>\n",
       "      <td>99.34</td>\n",
       "    </tr>\n",
       "    <tr>\n",
       "      <th>1015</th>\n",
       "      <td>2024-11-08T22:00:00Z</td>\n",
       "      <td>99.34</td>\n",
       "    </tr>\n",
       "  </tbody>\n",
       "</table>\n",
       "</div>"
      ],
      "text/plain": [
       "                      time  energy_kWh\n",
       "1011  2024-11-08T18:00:00Z       98.65\n",
       "1012  2024-11-08T19:00:00Z       98.80\n",
       "1013  2024-11-08T20:00:00Z       99.25\n",
       "1014  2024-11-08T21:00:00Z       99.34\n",
       "1015  2024-11-08T22:00:00Z       99.34"
      ]
     },
     "execution_count": 532,
     "metadata": {},
     "output_type": "execute_result"
    }
   ],
   "source": [
    "df = pd.DataFrame(points)\n",
    "df.tail()"
   ]
  },
  {
   "cell_type": "code",
   "execution_count": 533,
   "metadata": {},
   "outputs": [
    {
     "data": {
      "text/html": [
       "<div>\n",
       "<style scoped>\n",
       "    .dataframe tbody tr th:only-of-type {\n",
       "        vertical-align: middle;\n",
       "    }\n",
       "\n",
       "    .dataframe tbody tr th {\n",
       "        vertical-align: top;\n",
       "    }\n",
       "\n",
       "    .dataframe thead th {\n",
       "        text-align: right;\n",
       "    }\n",
       "</style>\n",
       "<table border=\"1\" class=\"dataframe\">\n",
       "  <thead>\n",
       "    <tr style=\"text-align: right;\">\n",
       "      <th></th>\n",
       "      <th>energy_kWh</th>\n",
       "    </tr>\n",
       "  </thead>\n",
       "  <tbody>\n",
       "    <tr>\n",
       "      <th>count</th>\n",
       "      <td>1016.000000</td>\n",
       "    </tr>\n",
       "    <tr>\n",
       "      <th>mean</th>\n",
       "      <td>59.520463</td>\n",
       "    </tr>\n",
       "    <tr>\n",
       "      <th>std</th>\n",
       "      <td>33.730406</td>\n",
       "    </tr>\n",
       "    <tr>\n",
       "      <th>min</th>\n",
       "      <td>0.180000</td>\n",
       "    </tr>\n",
       "    <tr>\n",
       "      <th>25%</th>\n",
       "      <td>30.312500</td>\n",
       "    </tr>\n",
       "    <tr>\n",
       "      <th>50%</th>\n",
       "      <td>59.865000</td>\n",
       "    </tr>\n",
       "    <tr>\n",
       "      <th>75%</th>\n",
       "      <td>89.620000</td>\n",
       "    </tr>\n",
       "    <tr>\n",
       "      <th>max</th>\n",
       "      <td>117.640000</td>\n",
       "    </tr>\n",
       "  </tbody>\n",
       "</table>\n",
       "</div>"
      ],
      "text/plain": [
       "        energy_kWh\n",
       "count  1016.000000\n",
       "mean     59.520463\n",
       "std      33.730406\n",
       "min       0.180000\n",
       "25%      30.312500\n",
       "50%      59.865000\n",
       "75%      89.620000\n",
       "max     117.640000"
      ]
     },
     "execution_count": 533,
     "metadata": {},
     "output_type": "execute_result"
    }
   ],
   "source": [
    "df.describe()"
   ]
  },
  {
   "cell_type": "code",
   "execution_count": 534,
   "metadata": {},
   "outputs": [
    {
     "name": "stdout",
     "output_type": "stream",
     "text": [
      "Longitud del dataframe: 1016\n"
     ]
    }
   ],
   "source": [
    "# Mostrar el largo del dataframe\n",
    "print(f\"Longitud del dataframe: {len(df)}\")"
   ]
  },
  {
   "cell_type": "markdown",
   "metadata": {},
   "source": [
    "Observar que `df.describe()` no tiene en cuenta los NaN pero las filas existen."
   ]
  },
  {
   "cell_type": "code",
   "execution_count": 535,
   "metadata": {},
   "outputs": [
    {
     "data": {
      "text/html": [
       "<div>\n",
       "<style scoped>\n",
       "    .dataframe tbody tr th:only-of-type {\n",
       "        vertical-align: middle;\n",
       "    }\n",
       "\n",
       "    .dataframe tbody tr th {\n",
       "        vertical-align: top;\n",
       "    }\n",
       "\n",
       "    .dataframe thead th {\n",
       "        text-align: right;\n",
       "    }\n",
       "</style>\n",
       "<table border=\"1\" class=\"dataframe\">\n",
       "  <thead>\n",
       "    <tr style=\"text-align: right;\">\n",
       "      <th></th>\n",
       "      <th>time</th>\n",
       "      <th>energy_kWh</th>\n",
       "    </tr>\n",
       "  </thead>\n",
       "  <tbody>\n",
       "    <tr>\n",
       "      <th>1011</th>\n",
       "      <td>2024-11-08 18:00:00+00:00</td>\n",
       "      <td>98.65</td>\n",
       "    </tr>\n",
       "    <tr>\n",
       "      <th>1012</th>\n",
       "      <td>2024-11-08 19:00:00+00:00</td>\n",
       "      <td>98.80</td>\n",
       "    </tr>\n",
       "    <tr>\n",
       "      <th>1013</th>\n",
       "      <td>2024-11-08 20:00:00+00:00</td>\n",
       "      <td>99.25</td>\n",
       "    </tr>\n",
       "    <tr>\n",
       "      <th>1014</th>\n",
       "      <td>2024-11-08 21:00:00+00:00</td>\n",
       "      <td>99.34</td>\n",
       "    </tr>\n",
       "    <tr>\n",
       "      <th>1015</th>\n",
       "      <td>2024-11-08 22:00:00+00:00</td>\n",
       "      <td>99.34</td>\n",
       "    </tr>\n",
       "  </tbody>\n",
       "</table>\n",
       "</div>"
      ],
      "text/plain": [
       "                          time  energy_kWh\n",
       "1011 2024-11-08 18:00:00+00:00       98.65\n",
       "1012 2024-11-08 19:00:00+00:00       98.80\n",
       "1013 2024-11-08 20:00:00+00:00       99.25\n",
       "1014 2024-11-08 21:00:00+00:00       99.34\n",
       "1015 2024-11-08 22:00:00+00:00       99.34"
      ]
     },
     "execution_count": 535,
     "metadata": {},
     "output_type": "execute_result"
    }
   ],
   "source": [
    "df['time'] = pd.to_datetime(df['time'])\n",
    "df.tail()"
   ]
  },
  {
   "cell_type": "code",
   "execution_count": 536,
   "metadata": {},
   "outputs": [
    {
     "data": {
      "text/html": [
       "<div>\n",
       "<style scoped>\n",
       "    .dataframe tbody tr th:only-of-type {\n",
       "        vertical-align: middle;\n",
       "    }\n",
       "\n",
       "    .dataframe tbody tr th {\n",
       "        vertical-align: top;\n",
       "    }\n",
       "\n",
       "    .dataframe thead th {\n",
       "        text-align: right;\n",
       "    }\n",
       "</style>\n",
       "<table border=\"1\" class=\"dataframe\">\n",
       "  <thead>\n",
       "    <tr style=\"text-align: right;\">\n",
       "      <th></th>\n",
       "      <th>time</th>\n",
       "      <th>energy_kWh</th>\n",
       "    </tr>\n",
       "  </thead>\n",
       "  <tbody>\n",
       "    <tr>\n",
       "      <th>1011</th>\n",
       "      <td>2024-11-08 18:00:00</td>\n",
       "      <td>98.65</td>\n",
       "    </tr>\n",
       "    <tr>\n",
       "      <th>1012</th>\n",
       "      <td>2024-11-08 19:00:00</td>\n",
       "      <td>98.80</td>\n",
       "    </tr>\n",
       "    <tr>\n",
       "      <th>1013</th>\n",
       "      <td>2024-11-08 20:00:00</td>\n",
       "      <td>99.25</td>\n",
       "    </tr>\n",
       "    <tr>\n",
       "      <th>1014</th>\n",
       "      <td>2024-11-08 21:00:00</td>\n",
       "      <td>99.34</td>\n",
       "    </tr>\n",
       "    <tr>\n",
       "      <th>1015</th>\n",
       "      <td>2024-11-08 22:00:00</td>\n",
       "      <td>99.34</td>\n",
       "    </tr>\n",
       "  </tbody>\n",
       "</table>\n",
       "</div>"
      ],
      "text/plain": [
       "                    time  energy_kWh\n",
       "1011 2024-11-08 18:00:00       98.65\n",
       "1012 2024-11-08 19:00:00       98.80\n",
       "1013 2024-11-08 20:00:00       99.25\n",
       "1014 2024-11-08 21:00:00       99.34\n",
       "1015 2024-11-08 22:00:00       99.34"
      ]
     },
     "execution_count": 536,
     "metadata": {},
     "output_type": "execute_result"
    }
   ],
   "source": [
    "df['time'] = df['time'].dt.tz_localize(None)\n",
    "df.tail()"
   ]
  },
  {
   "cell_type": "code",
   "execution_count": 537,
   "metadata": {},
   "outputs": [
    {
     "data": {
      "text/html": [
       "<div>\n",
       "<style scoped>\n",
       "    .dataframe tbody tr th:only-of-type {\n",
       "        vertical-align: middle;\n",
       "    }\n",
       "\n",
       "    .dataframe tbody tr th {\n",
       "        vertical-align: top;\n",
       "    }\n",
       "\n",
       "    .dataframe thead th {\n",
       "        text-align: right;\n",
       "    }\n",
       "</style>\n",
       "<table border=\"1\" class=\"dataframe\">\n",
       "  <thead>\n",
       "    <tr style=\"text-align: right;\">\n",
       "      <th></th>\n",
       "      <th>time</th>\n",
       "      <th>energy_kWh</th>\n",
       "    </tr>\n",
       "  </thead>\n",
       "  <tbody>\n",
       "    <tr>\n",
       "      <th>1011</th>\n",
       "      <td>2024-11-08 18:00:00</td>\n",
       "      <td>98.65</td>\n",
       "    </tr>\n",
       "    <tr>\n",
       "      <th>1012</th>\n",
       "      <td>2024-11-08 19:00:00</td>\n",
       "      <td>98.80</td>\n",
       "    </tr>\n",
       "    <tr>\n",
       "      <th>1013</th>\n",
       "      <td>2024-11-08 20:00:00</td>\n",
       "      <td>99.25</td>\n",
       "    </tr>\n",
       "    <tr>\n",
       "      <th>1014</th>\n",
       "      <td>2024-11-08 21:00:00</td>\n",
       "      <td>99.34</td>\n",
       "    </tr>\n",
       "    <tr>\n",
       "      <th>1015</th>\n",
       "      <td>2024-11-08 22:00:00</td>\n",
       "      <td>99.34</td>\n",
       "    </tr>\n",
       "  </tbody>\n",
       "</table>\n",
       "</div>"
      ],
      "text/plain": [
       "                    time  energy_kWh\n",
       "1011 2024-11-08 18:00:00       98.65\n",
       "1012 2024-11-08 19:00:00       98.80\n",
       "1013 2024-11-08 20:00:00       99.25\n",
       "1014 2024-11-08 21:00:00       99.34\n",
       "1015 2024-11-08 22:00:00       99.34"
      ]
     },
     "execution_count": 537,
     "metadata": {},
     "output_type": "execute_result"
    }
   ],
   "source": [
    "# Todo lo anterior se podría hacer en un solo paso\n",
    "df = pd.DataFrame(points)\n",
    "df['time'] = pd.to_datetime(df['time']).dt.tz_localize(None)\n",
    "df.tail()"
   ]
  },
  {
   "cell_type": "markdown",
   "metadata": {},
   "source": [
    "Para poder hacer operaciones basadas en el tiempo necesitaremos que time sea el indice"
   ]
  },
  {
   "cell_type": "code",
   "execution_count": 538,
   "metadata": {},
   "outputs": [
    {
     "data": {
      "text/html": [
       "<div>\n",
       "<style scoped>\n",
       "    .dataframe tbody tr th:only-of-type {\n",
       "        vertical-align: middle;\n",
       "    }\n",
       "\n",
       "    .dataframe tbody tr th {\n",
       "        vertical-align: top;\n",
       "    }\n",
       "\n",
       "    .dataframe thead th {\n",
       "        text-align: right;\n",
       "    }\n",
       "</style>\n",
       "<table border=\"1\" class=\"dataframe\">\n",
       "  <thead>\n",
       "    <tr style=\"text-align: right;\">\n",
       "      <th></th>\n",
       "      <th>energy_kWh</th>\n",
       "    </tr>\n",
       "    <tr>\n",
       "      <th>time</th>\n",
       "      <th></th>\n",
       "    </tr>\n",
       "  </thead>\n",
       "  <tbody>\n",
       "    <tr>\n",
       "      <th>2024-11-08 18:00:00</th>\n",
       "      <td>98.65</td>\n",
       "    </tr>\n",
       "    <tr>\n",
       "      <th>2024-11-08 19:00:00</th>\n",
       "      <td>98.80</td>\n",
       "    </tr>\n",
       "    <tr>\n",
       "      <th>2024-11-08 20:00:00</th>\n",
       "      <td>99.25</td>\n",
       "    </tr>\n",
       "    <tr>\n",
       "      <th>2024-11-08 21:00:00</th>\n",
       "      <td>99.34</td>\n",
       "    </tr>\n",
       "    <tr>\n",
       "      <th>2024-11-08 22:00:00</th>\n",
       "      <td>99.34</td>\n",
       "    </tr>\n",
       "  </tbody>\n",
       "</table>\n",
       "</div>"
      ],
      "text/plain": [
       "                     energy_kWh\n",
       "time                           \n",
       "2024-11-08 18:00:00       98.65\n",
       "2024-11-08 19:00:00       98.80\n",
       "2024-11-08 20:00:00       99.25\n",
       "2024-11-08 21:00:00       99.34\n",
       "2024-11-08 22:00:00       99.34"
      ]
     },
     "execution_count": 538,
     "metadata": {},
     "output_type": "execute_result"
    }
   ],
   "source": [
    "df.set_index('time', inplace=True)\n",
    "df.tail()"
   ]
  },
  {
   "cell_type": "markdown",
   "metadata": {},
   "source": [
    "Puede suceder que en el rango de fechas seleccionadas existan valores NaN\n",
    "vamos a mostrar si hay alguno"
   ]
  },
  {
   "cell_type": "code",
   "execution_count": 539,
   "metadata": {},
   "outputs": [
    {
     "data": {
      "text/html": [
       "<div>\n",
       "<style scoped>\n",
       "    .dataframe tbody tr th:only-of-type {\n",
       "        vertical-align: middle;\n",
       "    }\n",
       "\n",
       "    .dataframe tbody tr th {\n",
       "        vertical-align: top;\n",
       "    }\n",
       "\n",
       "    .dataframe thead th {\n",
       "        text-align: right;\n",
       "    }\n",
       "</style>\n",
       "<table border=\"1\" class=\"dataframe\">\n",
       "  <thead>\n",
       "    <tr style=\"text-align: right;\">\n",
       "      <th></th>\n",
       "      <th>energy_kWh</th>\n",
       "    </tr>\n",
       "    <tr>\n",
       "      <th>time</th>\n",
       "      <th></th>\n",
       "    </tr>\n",
       "  </thead>\n",
       "  <tbody>\n",
       "  </tbody>\n",
       "</table>\n",
       "</div>"
      ],
      "text/plain": [
       "Empty DataFrame\n",
       "Columns: [energy_kWh]\n",
       "Index: []"
      ]
     },
     "execution_count": 539,
     "metadata": {},
     "output_type": "execute_result"
    }
   ],
   "source": [
    "# Mostrar df donde haya NaN\n",
    "df[df.iloc[:,0].isnull()] # Notación de pandas para seleccionar columnas por índice"
   ]
  },
  {
   "cell_type": "code",
   "execution_count": 540,
   "metadata": {},
   "outputs": [
    {
     "data": {
      "text/html": [
       "<div>\n",
       "<style scoped>\n",
       "    .dataframe tbody tr th:only-of-type {\n",
       "        vertical-align: middle;\n",
       "    }\n",
       "\n",
       "    .dataframe tbody tr th {\n",
       "        vertical-align: top;\n",
       "    }\n",
       "\n",
       "    .dataframe thead th {\n",
       "        text-align: right;\n",
       "    }\n",
       "</style>\n",
       "<table border=\"1\" class=\"dataframe\">\n",
       "  <thead>\n",
       "    <tr style=\"text-align: right;\">\n",
       "      <th></th>\n",
       "      <th>energy_kWh</th>\n",
       "    </tr>\n",
       "    <tr>\n",
       "      <th>time</th>\n",
       "      <th></th>\n",
       "    </tr>\n",
       "  </thead>\n",
       "  <tbody>\n",
       "  </tbody>\n",
       "</table>\n",
       "</div>"
      ],
      "text/plain": [
       "Empty DataFrame\n",
       "Columns: [energy_kWh]\n",
       "Index: []"
      ]
     },
     "execution_count": 540,
     "metadata": {},
     "output_type": "execute_result"
    }
   ],
   "source": [
    "# Mostrar df donde haya NaN\n",
    "df[df.iloc[:,0].isnull()]\n"
   ]
  },
  {
   "cell_type": "markdown",
   "metadata": {},
   "source": [
    "Vamos a forzar algunos valores NaN"
   ]
  },
  {
   "cell_type": "code",
   "execution_count": 541,
   "metadata": {},
   "outputs": [
    {
     "data": {
      "text/html": [
       "<div>\n",
       "<style scoped>\n",
       "    .dataframe tbody tr th:only-of-type {\n",
       "        vertical-align: middle;\n",
       "    }\n",
       "\n",
       "    .dataframe tbody tr th {\n",
       "        vertical-align: top;\n",
       "    }\n",
       "\n",
       "    .dataframe thead th {\n",
       "        text-align: right;\n",
       "    }\n",
       "</style>\n",
       "<table border=\"1\" class=\"dataframe\">\n",
       "  <thead>\n",
       "    <tr style=\"text-align: right;\">\n",
       "      <th></th>\n",
       "      <th>energy_kWh</th>\n",
       "    </tr>\n",
       "    <tr>\n",
       "      <th>time</th>\n",
       "      <th></th>\n",
       "    </tr>\n",
       "  </thead>\n",
       "  <tbody>\n",
       "    <tr>\n",
       "      <th>2024-09-27 15:00:00</th>\n",
       "      <td>NaN</td>\n",
       "    </tr>\n",
       "    <tr>\n",
       "      <th>2024-09-27 16:00:00</th>\n",
       "      <td>94.64</td>\n",
       "    </tr>\n",
       "    <tr>\n",
       "      <th>2024-09-27 17:00:00</th>\n",
       "      <td>94.68</td>\n",
       "    </tr>\n",
       "    <tr>\n",
       "      <th>2024-09-27 18:00:00</th>\n",
       "      <td>94.83</td>\n",
       "    </tr>\n",
       "    <tr>\n",
       "      <th>2024-09-27 19:00:00</th>\n",
       "      <td>NaN</td>\n",
       "    </tr>\n",
       "    <tr>\n",
       "      <th>...</th>\n",
       "      <td>...</td>\n",
       "    </tr>\n",
       "    <tr>\n",
       "      <th>2024-11-08 18:00:00</th>\n",
       "      <td>98.65</td>\n",
       "    </tr>\n",
       "    <tr>\n",
       "      <th>2024-11-08 19:00:00</th>\n",
       "      <td>98.80</td>\n",
       "    </tr>\n",
       "    <tr>\n",
       "      <th>2024-11-08 20:00:00</th>\n",
       "      <td>99.25</td>\n",
       "    </tr>\n",
       "    <tr>\n",
       "      <th>2024-11-08 21:00:00</th>\n",
       "      <td>99.34</td>\n",
       "    </tr>\n",
       "    <tr>\n",
       "      <th>2024-11-08 22:00:00</th>\n",
       "      <td>NaN</td>\n",
       "    </tr>\n",
       "  </tbody>\n",
       "</table>\n",
       "<p>1016 rows × 1 columns</p>\n",
       "</div>"
      ],
      "text/plain": [
       "                     energy_kWh\n",
       "time                           \n",
       "2024-09-27 15:00:00         NaN\n",
       "2024-09-27 16:00:00       94.64\n",
       "2024-09-27 17:00:00       94.68\n",
       "2024-09-27 18:00:00       94.83\n",
       "2024-09-27 19:00:00         NaN\n",
       "...                         ...\n",
       "2024-11-08 18:00:00       98.65\n",
       "2024-11-08 19:00:00       98.80\n",
       "2024-11-08 20:00:00       99.25\n",
       "2024-11-08 21:00:00       99.34\n",
       "2024-11-08 22:00:00         NaN\n",
       "\n",
       "[1016 rows x 1 columns]"
      ]
     },
     "execution_count": 541,
     "metadata": {},
     "output_type": "execute_result"
    }
   ],
   "source": [
    "# Forzar algunos valores Nan para probar\n",
    "# En el primer registro\n",
    "df.iloc[0,0] = np.nan\n",
    "# En el quinto registro\n",
    "df.iloc[4,0] = np.nan\n",
    "# En el último registro\n",
    "df.iloc[-1,0] = np.nan\n",
    "df"
   ]
  },
  {
   "cell_type": "markdown",
   "metadata": {},
   "source": [
    "Para tratar los posibles valores NaN iniciales se podría usar lo siguiente, sin embargo se llega a lo conclusión de que esto podría falsear los datos y finalmente no se implementará. "
   ]
  },
  {
   "cell_type": "code",
   "execution_count": 542,
   "metadata": {},
   "outputs": [
    {
     "data": {
      "text/html": [
       "<div>\n",
       "<style scoped>\n",
       "    .dataframe tbody tr th:only-of-type {\n",
       "        vertical-align: middle;\n",
       "    }\n",
       "\n",
       "    .dataframe tbody tr th {\n",
       "        vertical-align: top;\n",
       "    }\n",
       "\n",
       "    .dataframe thead th {\n",
       "        text-align: right;\n",
       "    }\n",
       "</style>\n",
       "<table border=\"1\" class=\"dataframe\">\n",
       "  <thead>\n",
       "    <tr style=\"text-align: right;\">\n",
       "      <th></th>\n",
       "      <th>energy_kWh</th>\n",
       "    </tr>\n",
       "    <tr>\n",
       "      <th>time</th>\n",
       "      <th></th>\n",
       "    </tr>\n",
       "  </thead>\n",
       "  <tbody>\n",
       "    <tr>\n",
       "      <th>2024-11-08 18:00:00</th>\n",
       "      <td>98.65</td>\n",
       "    </tr>\n",
       "    <tr>\n",
       "      <th>2024-11-08 19:00:00</th>\n",
       "      <td>98.80</td>\n",
       "    </tr>\n",
       "    <tr>\n",
       "      <th>2024-11-08 20:00:00</th>\n",
       "      <td>99.25</td>\n",
       "    </tr>\n",
       "    <tr>\n",
       "      <th>2024-11-08 21:00:00</th>\n",
       "      <td>99.34</td>\n",
       "    </tr>\n",
       "    <tr>\n",
       "      <th>2024-11-08 22:00:00</th>\n",
       "      <td>NaN</td>\n",
       "    </tr>\n",
       "  </tbody>\n",
       "</table>\n",
       "</div>"
      ],
      "text/plain": [
       "                     energy_kWh\n",
       "time                           \n",
       "2024-11-08 18:00:00       98.65\n",
       "2024-11-08 19:00:00       98.80\n",
       "2024-11-08 20:00:00       99.25\n",
       "2024-11-08 21:00:00       99.34\n",
       "2024-11-08 22:00:00         NaN"
      ]
     },
     "execution_count": 542,
     "metadata": {},
     "output_type": "execute_result"
    }
   ],
   "source": [
    "df.tail()"
   ]
  },
  {
   "cell_type": "code",
   "execution_count": 543,
   "metadata": {},
   "outputs": [
    {
     "data": {
      "text/plain": [
       "Timestamp('2024-09-27 16:00:00')"
      ]
     },
     "execution_count": 543,
     "metadata": {},
     "output_type": "execute_result"
    }
   ],
   "source": [
    "first_index = df.iloc[:,0].first_valid_index() # first index where the value is not NaN\n",
    "first_index"
   ]
  },
  {
   "cell_type": "code",
   "execution_count": 544,
   "metadata": {},
   "outputs": [
    {
     "data": {
      "text/plain": [
       "np.float64(94.64)"
      ]
     },
     "execution_count": 544,
     "metadata": {},
     "output_type": "execute_result"
    }
   ],
   "source": [
    "# Valor de la columna 0 correspondiente a first_index\n",
    "first_value=df.loc[first_index, df.columns[0]]\n",
    "first_value"
   ]
  },
  {
   "cell_type": "markdown",
   "metadata": {},
   "source": [
    "Se ha observado un reset del contador de energía"
   ]
  },
  {
   "cell_type": "code",
   "execution_count": 545,
   "metadata": {},
   "outputs": [
    {
     "data": {
      "text/plain": [
       "array([ True, False, False, ..., False, False, False])"
      ]
     },
     "execution_count": 545,
     "metadata": {},
     "output_type": "execute_result"
    }
   ],
   "source": [
    "mask = df.index < first_index # records before the first non-NaN value\n",
    "mask"
   ]
  },
  {
   "cell_type": "code",
   "execution_count": 546,
   "metadata": {},
   "outputs": [
    {
     "data": {
      "text/html": [
       "<div>\n",
       "<style scoped>\n",
       "    .dataframe tbody tr th:only-of-type {\n",
       "        vertical-align: middle;\n",
       "    }\n",
       "\n",
       "    .dataframe tbody tr th {\n",
       "        vertical-align: top;\n",
       "    }\n",
       "\n",
       "    .dataframe thead th {\n",
       "        text-align: right;\n",
       "    }\n",
       "</style>\n",
       "<table border=\"1\" class=\"dataframe\">\n",
       "  <thead>\n",
       "    <tr style=\"text-align: right;\">\n",
       "      <th></th>\n",
       "      <th>energy_kWh</th>\n",
       "    </tr>\n",
       "    <tr>\n",
       "      <th>time</th>\n",
       "      <th></th>\n",
       "    </tr>\n",
       "  </thead>\n",
       "  <tbody>\n",
       "    <tr>\n",
       "      <th>2024-09-27 15:00:00</th>\n",
       "      <td>94.64</td>\n",
       "    </tr>\n",
       "    <tr>\n",
       "      <th>2024-09-27 16:00:00</th>\n",
       "      <td>94.64</td>\n",
       "    </tr>\n",
       "    <tr>\n",
       "      <th>2024-09-27 17:00:00</th>\n",
       "      <td>94.68</td>\n",
       "    </tr>\n",
       "    <tr>\n",
       "      <th>2024-09-27 18:00:00</th>\n",
       "      <td>94.83</td>\n",
       "    </tr>\n",
       "    <tr>\n",
       "      <th>2024-09-27 19:00:00</th>\n",
       "      <td>NaN</td>\n",
       "    </tr>\n",
       "    <tr>\n",
       "      <th>...</th>\n",
       "      <td>...</td>\n",
       "    </tr>\n",
       "    <tr>\n",
       "      <th>2024-11-08 18:00:00</th>\n",
       "      <td>98.65</td>\n",
       "    </tr>\n",
       "    <tr>\n",
       "      <th>2024-11-08 19:00:00</th>\n",
       "      <td>98.80</td>\n",
       "    </tr>\n",
       "    <tr>\n",
       "      <th>2024-11-08 20:00:00</th>\n",
       "      <td>99.25</td>\n",
       "    </tr>\n",
       "    <tr>\n",
       "      <th>2024-11-08 21:00:00</th>\n",
       "      <td>99.34</td>\n",
       "    </tr>\n",
       "    <tr>\n",
       "      <th>2024-11-08 22:00:00</th>\n",
       "      <td>NaN</td>\n",
       "    </tr>\n",
       "  </tbody>\n",
       "</table>\n",
       "<p>1016 rows × 1 columns</p>\n",
       "</div>"
      ],
      "text/plain": [
       "                     energy_kWh\n",
       "time                           \n",
       "2024-09-27 15:00:00       94.64\n",
       "2024-09-27 16:00:00       94.64\n",
       "2024-09-27 17:00:00       94.68\n",
       "2024-09-27 18:00:00       94.83\n",
       "2024-09-27 19:00:00         NaN\n",
       "...                         ...\n",
       "2024-11-08 18:00:00       98.65\n",
       "2024-11-08 19:00:00       98.80\n",
       "2024-11-08 20:00:00       99.25\n",
       "2024-11-08 21:00:00       99.34\n",
       "2024-11-08 22:00:00         NaN\n",
       "\n",
       "[1016 rows x 1 columns]"
      ]
     },
     "execution_count": 546,
     "metadata": {},
     "output_type": "execute_result"
    }
   ],
   "source": [
    "df.loc[mask, df.columns[0]] = first_value  # Fill NaN values with first_value\n",
    "df"
   ]
  },
  {
   "cell_type": "markdown",
   "metadata": {},
   "source": [
    "Ahora vamos a calcular las diferencias para tener valor de consumo por hora"
   ]
  },
  {
   "cell_type": "code",
   "execution_count": 547,
   "metadata": {},
   "outputs": [
    {
     "data": {
      "text/html": [
       "<div>\n",
       "<style scoped>\n",
       "    .dataframe tbody tr th:only-of-type {\n",
       "        vertical-align: middle;\n",
       "    }\n",
       "\n",
       "    .dataframe tbody tr th {\n",
       "        vertical-align: top;\n",
       "    }\n",
       "\n",
       "    .dataframe thead th {\n",
       "        text-align: right;\n",
       "    }\n",
       "</style>\n",
       "<table border=\"1\" class=\"dataframe\">\n",
       "  <thead>\n",
       "    <tr style=\"text-align: right;\">\n",
       "      <th></th>\n",
       "      <th>energy_kWh</th>\n",
       "      <th>delta_energy</th>\n",
       "    </tr>\n",
       "    <tr>\n",
       "      <th>time</th>\n",
       "      <th></th>\n",
       "      <th></th>\n",
       "    </tr>\n",
       "  </thead>\n",
       "  <tbody>\n",
       "    <tr>\n",
       "      <th>2024-09-27 15:00:00</th>\n",
       "      <td>94.64</td>\n",
       "      <td>NaN</td>\n",
       "    </tr>\n",
       "    <tr>\n",
       "      <th>2024-09-27 16:00:00</th>\n",
       "      <td>94.64</td>\n",
       "      <td>0.00</td>\n",
       "    </tr>\n",
       "    <tr>\n",
       "      <th>2024-09-27 17:00:00</th>\n",
       "      <td>94.68</td>\n",
       "      <td>0.04</td>\n",
       "    </tr>\n",
       "    <tr>\n",
       "      <th>2024-09-27 18:00:00</th>\n",
       "      <td>94.83</td>\n",
       "      <td>0.15</td>\n",
       "    </tr>\n",
       "    <tr>\n",
       "      <th>2024-09-27 19:00:00</th>\n",
       "      <td>NaN</td>\n",
       "      <td>NaN</td>\n",
       "    </tr>\n",
       "    <tr>\n",
       "      <th>...</th>\n",
       "      <td>...</td>\n",
       "      <td>...</td>\n",
       "    </tr>\n",
       "    <tr>\n",
       "      <th>2024-11-08 18:00:00</th>\n",
       "      <td>98.65</td>\n",
       "      <td>0.07</td>\n",
       "    </tr>\n",
       "    <tr>\n",
       "      <th>2024-11-08 19:00:00</th>\n",
       "      <td>98.80</td>\n",
       "      <td>0.15</td>\n",
       "    </tr>\n",
       "    <tr>\n",
       "      <th>2024-11-08 20:00:00</th>\n",
       "      <td>99.25</td>\n",
       "      <td>0.45</td>\n",
       "    </tr>\n",
       "    <tr>\n",
       "      <th>2024-11-08 21:00:00</th>\n",
       "      <td>99.34</td>\n",
       "      <td>0.09</td>\n",
       "    </tr>\n",
       "    <tr>\n",
       "      <th>2024-11-08 22:00:00</th>\n",
       "      <td>NaN</td>\n",
       "      <td>NaN</td>\n",
       "    </tr>\n",
       "  </tbody>\n",
       "</table>\n",
       "<p>1016 rows × 2 columns</p>\n",
       "</div>"
      ],
      "text/plain": [
       "                     energy_kWh  delta_energy\n",
       "time                                         \n",
       "2024-09-27 15:00:00       94.64           NaN\n",
       "2024-09-27 16:00:00       94.64          0.00\n",
       "2024-09-27 17:00:00       94.68          0.04\n",
       "2024-09-27 18:00:00       94.83          0.15\n",
       "2024-09-27 19:00:00         NaN           NaN\n",
       "...                         ...           ...\n",
       "2024-11-08 18:00:00       98.65          0.07\n",
       "2024-11-08 19:00:00       98.80          0.15\n",
       "2024-11-08 20:00:00       99.25          0.45\n",
       "2024-11-08 21:00:00       99.34          0.09\n",
       "2024-11-08 22:00:00         NaN           NaN\n",
       "\n",
       "[1016 rows x 2 columns]"
      ]
     },
     "execution_count": 547,
     "metadata": {},
     "output_type": "execute_result"
    }
   ],
   "source": [
    "# Hacer diff() sin conocer el nombre de la columna por su indice\n",
    "df['delta_energy'] = df.iloc[:,0].diff() # Calculate the difference between consecutive values\n",
    "df"
   ]
  },
  {
   "cell_type": "markdown",
   "metadata": {},
   "source": [
    "Como se observa el primer valor es NaN ya que ha hecho la diferencia con un valor anterior no existente. Del mismo modo los valores que inicialmente eran NaN han provocado varios nuevos NaN en la columna delta_energy. \n",
    "Eliminar todos los NaN"
   ]
  },
  {
   "cell_type": "code",
   "execution_count": 548,
   "metadata": {},
   "outputs": [
    {
     "data": {
      "text/html": [
       "<div>\n",
       "<style scoped>\n",
       "    .dataframe tbody tr th:only-of-type {\n",
       "        vertical-align: middle;\n",
       "    }\n",
       "\n",
       "    .dataframe tbody tr th {\n",
       "        vertical-align: top;\n",
       "    }\n",
       "\n",
       "    .dataframe thead th {\n",
       "        text-align: right;\n",
       "    }\n",
       "</style>\n",
       "<table border=\"1\" class=\"dataframe\">\n",
       "  <thead>\n",
       "    <tr style=\"text-align: right;\">\n",
       "      <th></th>\n",
       "      <th>energy_kWh</th>\n",
       "      <th>delta_energy</th>\n",
       "    </tr>\n",
       "    <tr>\n",
       "      <th>time</th>\n",
       "      <th></th>\n",
       "      <th></th>\n",
       "    </tr>\n",
       "  </thead>\n",
       "  <tbody>\n",
       "    <tr>\n",
       "      <th>2024-09-27 16:00:00</th>\n",
       "      <td>94.64</td>\n",
       "      <td>0.00</td>\n",
       "    </tr>\n",
       "    <tr>\n",
       "      <th>2024-09-27 17:00:00</th>\n",
       "      <td>94.68</td>\n",
       "      <td>0.04</td>\n",
       "    </tr>\n",
       "    <tr>\n",
       "      <th>2024-09-27 18:00:00</th>\n",
       "      <td>94.83</td>\n",
       "      <td>0.15</td>\n",
       "    </tr>\n",
       "    <tr>\n",
       "      <th>2024-09-27 21:00:00</th>\n",
       "      <td>95.30</td>\n",
       "      <td>0.29</td>\n",
       "    </tr>\n",
       "    <tr>\n",
       "      <th>2024-09-27 22:00:00</th>\n",
       "      <td>95.52</td>\n",
       "      <td>0.22</td>\n",
       "    </tr>\n",
       "    <tr>\n",
       "      <th>...</th>\n",
       "      <td>...</td>\n",
       "      <td>...</td>\n",
       "    </tr>\n",
       "    <tr>\n",
       "      <th>2024-11-08 17:00:00</th>\n",
       "      <td>98.58</td>\n",
       "      <td>0.09</td>\n",
       "    </tr>\n",
       "    <tr>\n",
       "      <th>2024-11-08 18:00:00</th>\n",
       "      <td>98.65</td>\n",
       "      <td>0.07</td>\n",
       "    </tr>\n",
       "    <tr>\n",
       "      <th>2024-11-08 19:00:00</th>\n",
       "      <td>98.80</td>\n",
       "      <td>0.15</td>\n",
       "    </tr>\n",
       "    <tr>\n",
       "      <th>2024-11-08 20:00:00</th>\n",
       "      <td>99.25</td>\n",
       "      <td>0.45</td>\n",
       "    </tr>\n",
       "    <tr>\n",
       "      <th>2024-11-08 21:00:00</th>\n",
       "      <td>99.34</td>\n",
       "      <td>0.09</td>\n",
       "    </tr>\n",
       "  </tbody>\n",
       "</table>\n",
       "<p>1012 rows × 2 columns</p>\n",
       "</div>"
      ],
      "text/plain": [
       "                     energy_kWh  delta_energy\n",
       "time                                         \n",
       "2024-09-27 16:00:00       94.64          0.00\n",
       "2024-09-27 17:00:00       94.68          0.04\n",
       "2024-09-27 18:00:00       94.83          0.15\n",
       "2024-09-27 21:00:00       95.30          0.29\n",
       "2024-09-27 22:00:00       95.52          0.22\n",
       "...                         ...           ...\n",
       "2024-11-08 17:00:00       98.58          0.09\n",
       "2024-11-08 18:00:00       98.65          0.07\n",
       "2024-11-08 19:00:00       98.80          0.15\n",
       "2024-11-08 20:00:00       99.25          0.45\n",
       "2024-11-08 21:00:00       99.34          0.09\n",
       "\n",
       "[1012 rows x 2 columns]"
      ]
     },
     "execution_count": 548,
     "metadata": {},
     "output_type": "execute_result"
    }
   ],
   "source": [
    "df = df.dropna()\n",
    "df"
   ]
  },
  {
   "cell_type": "markdown",
   "metadata": {},
   "source": [
    "Hemos perdido algunas franjas horarias"
   ]
  },
  {
   "cell_type": "markdown",
   "metadata": {},
   "source": [
    "# Conclusiones y reinicio de los datos para pasar a la siguiente etapa\n",
    "Vamos a intentar no hacer un tratamiento excesivo de los valores NaN para ver como responde Prophet en el entrenamiento cuando recibe valores NaN.\n",
    "Por otra parte la conclusión más relevante, es que al generar la consulta es conveniente especificar la fecha `end` ya que de esta forma se asegura que el momento presente queda en el dataset y aunque después se eliminará por no tener datos consolidados. Permite coordinar cual será el primer registro del forecast entre el Custom Component y el Addon, permitiendo que el primer registro devuelto en el forecast sea precisamente el pronostico de la hora actual.\n",
    "Con estas premisas se prosigue la prueba para obtener una secuencia de instrucciones óptima."
   ]
  },
  {
   "cell_type": "code",
   "execution_count": 549,
   "metadata": {},
   "outputs": [
    {
     "name": "stdout",
     "output_type": "stream",
     "text": [
      "Host: 192.168.0.100, Port: 8086, User: homeassistant, Database: homeassistant\n",
      "Query: SELECT last(\"value\") AS \"energy_kWh\" FROM \"kWh\" WHERE (time <= '2024-11-08T22:04:16Z') AND \"entity_id\"='victron_vebus_acin1toacout_228' GROUP BY time(1h) fill(previous)\n"
     ]
    },
    {
     "data": {
      "text/html": [
       "<div>\n",
       "<style scoped>\n",
       "    .dataframe tbody tr th:only-of-type {\n",
       "        vertical-align: middle;\n",
       "    }\n",
       "\n",
       "    .dataframe tbody tr th {\n",
       "        vertical-align: top;\n",
       "    }\n",
       "\n",
       "    .dataframe thead th {\n",
       "        text-align: right;\n",
       "    }\n",
       "</style>\n",
       "<table border=\"1\" class=\"dataframe\">\n",
       "  <thead>\n",
       "    <tr style=\"text-align: right;\">\n",
       "      <th></th>\n",
       "      <th>energy_kWh</th>\n",
       "      <th>delta_energy</th>\n",
       "    </tr>\n",
       "    <tr>\n",
       "      <th>time</th>\n",
       "      <th></th>\n",
       "      <th></th>\n",
       "    </tr>\n",
       "  </thead>\n",
       "  <tbody>\n",
       "    <tr>\n",
       "      <th>2024-10-05 09:00:00</th>\n",
       "      <td>0.18</td>\n",
       "      <td>-117.46</td>\n",
       "    </tr>\n",
       "  </tbody>\n",
       "</table>\n",
       "</div>"
      ],
      "text/plain": [
       "                     energy_kWh  delta_energy\n",
       "time                                         \n",
       "2024-10-05 09:00:00        0.18       -117.46"
      ]
     },
     "execution_count": 549,
     "metadata": {},
     "output_type": "execute_result"
    }
   ],
   "source": [
    "print(f\"Host: {host}, Port: {port}, User: {user}, Database: {dbname}\")\n",
    "end=datetime.now()\n",
    "str_query1 = energy_query_string('victron_vebus_acin1toacout_228',end=end) # Solo fecha final igual a la actual\n",
    "print(f\"Query: {str_query1}\")\n",
    "client = InfluxDBClient(host=host, port=port, username=user, password=password, database=dbname)\n",
    "result = client.query(str_query1) # Si hay datos en el rango, será un conjunto de valores continuo, sin existir huecos entre fechas (podría haber valores NaN)\n",
    "points = list(result.get_points())\n",
    "df = pd.DataFrame(points)\n",
    "df['time'] = pd.to_datetime(df['time']).dt.tz_localize(None)\n",
    "df.set_index('time', inplace=True)\n",
    "df['delta_energy'] = df.iloc[:,0].diff() # Calculate the difference between consecutive values\n",
    "# ¿Como responde Prophet si recibe un registro con NaN? probamos a comentar la siguiente línea\n",
    "# df = df.drop(df.index[0]) # eliminar la fila del primer registro \n",
    "df = df.drop(df.index[-1]) # eliminar la última fila. Valor no consolidado en la hora actual\n",
    "# mostrar valores <0 para ver si ha habido reset del contador\n",
    "df[df['delta_energy']<0]\n"
   ]
  },
  {
   "cell_type": "code",
   "execution_count": 550,
   "metadata": {},
   "outputs": [
    {
     "data": {
      "text/html": [
       "<div>\n",
       "<style scoped>\n",
       "    .dataframe tbody tr th:only-of-type {\n",
       "        vertical-align: middle;\n",
       "    }\n",
       "\n",
       "    .dataframe tbody tr th {\n",
       "        vertical-align: top;\n",
       "    }\n",
       "\n",
       "    .dataframe thead th {\n",
       "        text-align: right;\n",
       "    }\n",
       "</style>\n",
       "<table border=\"1\" class=\"dataframe\">\n",
       "  <thead>\n",
       "    <tr style=\"text-align: right;\">\n",
       "      <th></th>\n",
       "      <th>energy_kWh</th>\n",
       "      <th>delta_energy</th>\n",
       "    </tr>\n",
       "    <tr>\n",
       "      <th>time</th>\n",
       "      <th></th>\n",
       "      <th></th>\n",
       "    </tr>\n",
       "  </thead>\n",
       "  <tbody>\n",
       "    <tr>\n",
       "      <th>2024-09-27 15:00:00</th>\n",
       "      <td>94.54</td>\n",
       "      <td>NaN</td>\n",
       "    </tr>\n",
       "    <tr>\n",
       "      <th>2024-09-27 16:00:00</th>\n",
       "      <td>94.64</td>\n",
       "      <td>0.10</td>\n",
       "    </tr>\n",
       "    <tr>\n",
       "      <th>2024-09-27 17:00:00</th>\n",
       "      <td>94.68</td>\n",
       "      <td>0.04</td>\n",
       "    </tr>\n",
       "    <tr>\n",
       "      <th>2024-09-27 18:00:00</th>\n",
       "      <td>94.83</td>\n",
       "      <td>0.15</td>\n",
       "    </tr>\n",
       "    <tr>\n",
       "      <th>2024-09-27 19:00:00</th>\n",
       "      <td>94.90</td>\n",
       "      <td>0.07</td>\n",
       "    </tr>\n",
       "  </tbody>\n",
       "</table>\n",
       "</div>"
      ],
      "text/plain": [
       "                     energy_kWh  delta_energy\n",
       "time                                         \n",
       "2024-09-27 15:00:00       94.54           NaN\n",
       "2024-09-27 16:00:00       94.64          0.10\n",
       "2024-09-27 17:00:00       94.68          0.04\n",
       "2024-09-27 18:00:00       94.83          0.15\n",
       "2024-09-27 19:00:00       94.90          0.07"
      ]
     },
     "execution_count": 550,
     "metadata": {},
     "output_type": "execute_result"
    }
   ],
   "source": [
    "\n",
    "\n",
    "# If there has been any counter reset, the difference will be negative\n",
    "mask = df['delta_energy'] < 0\n",
    "# ¿Que asignar 0 o NaN? --> Asignar NaN para ver como se comporta Prophet\n",
    "df.loc[mask, 'delta_energy'] = np.nan # In those cases, set the difference to NaN\n",
    "# df.loc[mask, 'delta_energy'] = 0 # In those cases, set the difference to 0\n",
    "df.head()"
   ]
  },
  {
   "cell_type": "code",
   "execution_count": 551,
   "metadata": {},
   "outputs": [
    {
     "data": {
      "text/html": [
       "<div>\n",
       "<style scoped>\n",
       "    .dataframe tbody tr th:only-of-type {\n",
       "        vertical-align: middle;\n",
       "    }\n",
       "\n",
       "    .dataframe tbody tr th {\n",
       "        vertical-align: top;\n",
       "    }\n",
       "\n",
       "    .dataframe thead th {\n",
       "        text-align: right;\n",
       "    }\n",
       "</style>\n",
       "<table border=\"1\" class=\"dataframe\">\n",
       "  <thead>\n",
       "    <tr style=\"text-align: right;\">\n",
       "      <th></th>\n",
       "      <th>energy_kWh</th>\n",
       "      <th>delta_energy</th>\n",
       "    </tr>\n",
       "    <tr>\n",
       "      <th>time</th>\n",
       "      <th></th>\n",
       "      <th></th>\n",
       "    </tr>\n",
       "  </thead>\n",
       "  <tbody>\n",
       "    <tr>\n",
       "      <th>2024-11-08 17:00:00</th>\n",
       "      <td>98.58</td>\n",
       "      <td>0.09</td>\n",
       "    </tr>\n",
       "    <tr>\n",
       "      <th>2024-11-08 18:00:00</th>\n",
       "      <td>98.65</td>\n",
       "      <td>0.07</td>\n",
       "    </tr>\n",
       "    <tr>\n",
       "      <th>2024-11-08 19:00:00</th>\n",
       "      <td>98.80</td>\n",
       "      <td>0.15</td>\n",
       "    </tr>\n",
       "    <tr>\n",
       "      <th>2024-11-08 20:00:00</th>\n",
       "      <td>99.25</td>\n",
       "      <td>0.45</td>\n",
       "    </tr>\n",
       "    <tr>\n",
       "      <th>2024-11-08 21:00:00</th>\n",
       "      <td>99.34</td>\n",
       "      <td>0.09</td>\n",
       "    </tr>\n",
       "  </tbody>\n",
       "</table>\n",
       "</div>"
      ],
      "text/plain": [
       "                     energy_kWh  delta_energy\n",
       "time                                         \n",
       "2024-11-08 17:00:00       98.58          0.09\n",
       "2024-11-08 18:00:00       98.65          0.07\n",
       "2024-11-08 19:00:00       98.80          0.15\n",
       "2024-11-08 20:00:00       99.25          0.45\n",
       "2024-11-08 21:00:00       99.34          0.09"
      ]
     },
     "execution_count": 551,
     "metadata": {},
     "output_type": "execute_result"
    }
   ],
   "source": [
    "df.tail()"
   ]
  },
  {
   "cell_type": "markdown",
   "metadata": {},
   "source": [
    "Suponer que hay un segundo valor que se debe sumar --> df2"
   ]
  },
  {
   "cell_type": "code",
   "execution_count": 552,
   "metadata": {},
   "outputs": [],
   "source": [
    "df1=df.copy()\n"
   ]
  },
  {
   "cell_type": "code",
   "execution_count": 553,
   "metadata": {},
   "outputs": [
    {
     "name": "stdout",
     "output_type": "stream",
     "text": [
      "Query: SELECT last(\"value\") AS \"energy_kWh\" FROM \"kWh\" WHERE (time <= '2024-11-08T22:04:16Z') AND \"entity_id\"='victron_vebus_invertertoacout_228' GROUP BY time(1h) fill(previous)\n"
     ]
    },
    {
     "data": {
      "text/html": [
       "<div>\n",
       "<style scoped>\n",
       "    .dataframe tbody tr th:only-of-type {\n",
       "        vertical-align: middle;\n",
       "    }\n",
       "\n",
       "    .dataframe tbody tr th {\n",
       "        vertical-align: top;\n",
       "    }\n",
       "\n",
       "    .dataframe thead th {\n",
       "        text-align: right;\n",
       "    }\n",
       "</style>\n",
       "<table border=\"1\" class=\"dataframe\">\n",
       "  <thead>\n",
       "    <tr style=\"text-align: right;\">\n",
       "      <th></th>\n",
       "      <th>energy_kWh</th>\n",
       "      <th>delta_energy</th>\n",
       "    </tr>\n",
       "    <tr>\n",
       "      <th>time</th>\n",
       "      <th></th>\n",
       "      <th></th>\n",
       "    </tr>\n",
       "  </thead>\n",
       "  <tbody>\n",
       "    <tr>\n",
       "      <th>2024-10-05 09:00:00</th>\n",
       "      <td>0.15</td>\n",
       "      <td>-22.7</td>\n",
       "    </tr>\n",
       "  </tbody>\n",
       "</table>\n",
       "</div>"
      ],
      "text/plain": [
       "                     energy_kWh  delta_energy\n",
       "time                                         \n",
       "2024-10-05 09:00:00        0.15         -22.7"
      ]
     },
     "execution_count": 553,
     "metadata": {},
     "output_type": "execute_result"
    }
   ],
   "source": [
    "\n",
    "str_query2 = energy_query_string('victron_vebus_invertertoacout_228',end=end) # Solo fecha final igual a la actual\n",
    "print(f\"Query: {str_query2}\")\n",
    "client = InfluxDBClient(host=host, port=port, username=user, password=password, database=dbname)\n",
    "result = client.query(str_query2) # Si hay datos en el rango, será un conjunto de valores continuo, sin existir huecos entre fechas\n",
    "points = list(result.get_points())\n",
    "df = pd.DataFrame(points)\n",
    "df['time'] = pd.to_datetime(df['time']).dt.tz_localize(None)\n",
    "df.set_index('time', inplace=True)\n",
    "df['delta_energy'] = df.iloc[:,0].diff() # Calculate the difference between consecutive values\n",
    "# ¿Como responde Prophet si recibe un registro con NaN? probamos a comentar la siguiente línea\n",
    "# df = df.drop(df.index[0]) # eliminar la fila del primer registro \n",
    "df = df.drop(df.index[-1]) # eliminar la última fila. Valor no consolidado en la hora actual\n",
    "# mostrar valores <0 para ver si ha habido reset del contador\n",
    "df[df['delta_energy']<0]"
   ]
  },
  {
   "cell_type": "code",
   "execution_count": 554,
   "metadata": {},
   "outputs": [
    {
     "data": {
      "text/html": [
       "<div>\n",
       "<style scoped>\n",
       "    .dataframe tbody tr th:only-of-type {\n",
       "        vertical-align: middle;\n",
       "    }\n",
       "\n",
       "    .dataframe tbody tr th {\n",
       "        vertical-align: top;\n",
       "    }\n",
       "\n",
       "    .dataframe thead th {\n",
       "        text-align: right;\n",
       "    }\n",
       "</style>\n",
       "<table border=\"1\" class=\"dataframe\">\n",
       "  <thead>\n",
       "    <tr style=\"text-align: right;\">\n",
       "      <th></th>\n",
       "      <th>energy_kWh</th>\n",
       "      <th>delta_energy</th>\n",
       "    </tr>\n",
       "    <tr>\n",
       "      <th>time</th>\n",
       "      <th></th>\n",
       "      <th></th>\n",
       "    </tr>\n",
       "  </thead>\n",
       "  <tbody>\n",
       "    <tr>\n",
       "      <th>2024-09-27 15:00:00</th>\n",
       "      <td>16.98</td>\n",
       "      <td>NaN</td>\n",
       "    </tr>\n",
       "    <tr>\n",
       "      <th>2024-09-27 16:00:00</th>\n",
       "      <td>16.98</td>\n",
       "      <td>0.00</td>\n",
       "    </tr>\n",
       "    <tr>\n",
       "      <th>2024-09-27 17:00:00</th>\n",
       "      <td>17.02</td>\n",
       "      <td>0.04</td>\n",
       "    </tr>\n",
       "    <tr>\n",
       "      <th>2024-09-27 18:00:00</th>\n",
       "      <td>17.02</td>\n",
       "      <td>0.00</td>\n",
       "    </tr>\n",
       "    <tr>\n",
       "      <th>2024-09-27 19:00:00</th>\n",
       "      <td>17.02</td>\n",
       "      <td>0.00</td>\n",
       "    </tr>\n",
       "  </tbody>\n",
       "</table>\n",
       "</div>"
      ],
      "text/plain": [
       "                     energy_kWh  delta_energy\n",
       "time                                         \n",
       "2024-09-27 15:00:00       16.98           NaN\n",
       "2024-09-27 16:00:00       16.98          0.00\n",
       "2024-09-27 17:00:00       17.02          0.04\n",
       "2024-09-27 18:00:00       17.02          0.00\n",
       "2024-09-27 19:00:00       17.02          0.00"
      ]
     },
     "execution_count": 554,
     "metadata": {},
     "output_type": "execute_result"
    }
   ],
   "source": [
    "\n",
    "# If there has been any counter reset, the difference will be negative\n",
    "mask = df['delta_energy'] < 0\n",
    "# ¿Que asignar 0 o NaN? --> Asignar NaN para ver como se comporta Prophet\n",
    "df.loc[mask, 'delta_energy'] = np.nan # In those cases, set the difference to NaN\n",
    "# df.loc[mask, 'delta_energy'] = 0 # In those cases, set the difference to 0\n",
    "df.head()"
   ]
  },
  {
   "cell_type": "code",
   "execution_count": 555,
   "metadata": {},
   "outputs": [
    {
     "name": "stdout",
     "output_type": "stream",
     "text": [
      "1015\n",
      "1013\n"
     ]
    }
   ],
   "source": [
    "df2=df.copy()\n",
    "print(len(df1))\n",
    "# Eliminar un par de registros de df2 para incordiar\n",
    "df2 = df2.drop(df2.index[-1])\n",
    "df2 = df2.drop(df2.index[-1])\n",
    "print(len(df2))"
   ]
  },
  {
   "cell_type": "code",
   "execution_count": 556,
   "metadata": {},
   "outputs": [
    {
     "data": {
      "text/html": [
       "<div>\n",
       "<style scoped>\n",
       "    .dataframe tbody tr th:only-of-type {\n",
       "        vertical-align: middle;\n",
       "    }\n",
       "\n",
       "    .dataframe tbody tr th {\n",
       "        vertical-align: top;\n",
       "    }\n",
       "\n",
       "    .dataframe thead th {\n",
       "        text-align: right;\n",
       "    }\n",
       "</style>\n",
       "<table border=\"1\" class=\"dataframe\">\n",
       "  <thead>\n",
       "    <tr style=\"text-align: right;\">\n",
       "      <th></th>\n",
       "      <th>energy_kWh_x</th>\n",
       "      <th>delta_energy_x</th>\n",
       "      <th>energy_kWh_y</th>\n",
       "      <th>delta_energy_y</th>\n",
       "    </tr>\n",
       "    <tr>\n",
       "      <th>time</th>\n",
       "      <th></th>\n",
       "      <th></th>\n",
       "      <th></th>\n",
       "      <th></th>\n",
       "    </tr>\n",
       "  </thead>\n",
       "  <tbody>\n",
       "    <tr>\n",
       "      <th>2024-11-08 17:00:00</th>\n",
       "      <td>98.58</td>\n",
       "      <td>0.09</td>\n",
       "      <td>38.28</td>\n",
       "      <td>0.0</td>\n",
       "    </tr>\n",
       "    <tr>\n",
       "      <th>2024-11-08 18:00:00</th>\n",
       "      <td>98.65</td>\n",
       "      <td>0.07</td>\n",
       "      <td>38.28</td>\n",
       "      <td>0.0</td>\n",
       "    </tr>\n",
       "    <tr>\n",
       "      <th>2024-11-08 19:00:00</th>\n",
       "      <td>98.80</td>\n",
       "      <td>0.15</td>\n",
       "      <td>38.28</td>\n",
       "      <td>0.0</td>\n",
       "    </tr>\n",
       "    <tr>\n",
       "      <th>2024-11-08 20:00:00</th>\n",
       "      <td>99.25</td>\n",
       "      <td>0.45</td>\n",
       "      <td>NaN</td>\n",
       "      <td>NaN</td>\n",
       "    </tr>\n",
       "    <tr>\n",
       "      <th>2024-11-08 21:00:00</th>\n",
       "      <td>99.34</td>\n",
       "      <td>0.09</td>\n",
       "      <td>NaN</td>\n",
       "      <td>NaN</td>\n",
       "    </tr>\n",
       "  </tbody>\n",
       "</table>\n",
       "</div>"
      ],
      "text/plain": [
       "                     energy_kWh_x  delta_energy_x  energy_kWh_y  \\\n",
       "time                                                              \n",
       "2024-11-08 17:00:00         98.58            0.09         38.28   \n",
       "2024-11-08 18:00:00         98.65            0.07         38.28   \n",
       "2024-11-08 19:00:00         98.80            0.15         38.28   \n",
       "2024-11-08 20:00:00         99.25            0.45           NaN   \n",
       "2024-11-08 21:00:00         99.34            0.09           NaN   \n",
       "\n",
       "                     delta_energy_y  \n",
       "time                                 \n",
       "2024-11-08 17:00:00             0.0  \n",
       "2024-11-08 18:00:00             0.0  \n",
       "2024-11-08 19:00:00             0.0  \n",
       "2024-11-08 20:00:00             NaN  \n",
       "2024-11-08 21:00:00             NaN  "
      ]
     },
     "execution_count": 556,
     "metadata": {},
     "output_type": "execute_result"
    }
   ],
   "source": [
    "# Juntar los dos dataframes indicando que los indices de ambos son válidos\n",
    "df = pd.merge(df1, df2, left_index=True, right_index=True, how='outer')\n",
    "df.tail()"
   ]
  },
  {
   "cell_type": "code",
   "execution_count": 557,
   "metadata": {},
   "outputs": [
    {
     "data": {
      "text/html": [
       "<div>\n",
       "<style scoped>\n",
       "    .dataframe tbody tr th:only-of-type {\n",
       "        vertical-align: middle;\n",
       "    }\n",
       "\n",
       "    .dataframe tbody tr th {\n",
       "        vertical-align: top;\n",
       "    }\n",
       "\n",
       "    .dataframe thead th {\n",
       "        text-align: right;\n",
       "    }\n",
       "</style>\n",
       "<table border=\"1\" class=\"dataframe\">\n",
       "  <thead>\n",
       "    <tr style=\"text-align: right;\">\n",
       "      <th></th>\n",
       "      <th>energy_kWh_x</th>\n",
       "      <th>delta_energy_x</th>\n",
       "      <th>energy_kWh_y</th>\n",
       "      <th>delta_energy_y</th>\n",
       "      <th>delta_energy</th>\n",
       "    </tr>\n",
       "    <tr>\n",
       "      <th>time</th>\n",
       "      <th></th>\n",
       "      <th></th>\n",
       "      <th></th>\n",
       "      <th></th>\n",
       "      <th></th>\n",
       "    </tr>\n",
       "  </thead>\n",
       "  <tbody>\n",
       "    <tr>\n",
       "      <th>2024-11-08 17:00:00</th>\n",
       "      <td>98.58</td>\n",
       "      <td>0.09</td>\n",
       "      <td>38.28</td>\n",
       "      <td>0.0</td>\n",
       "      <td>0.09</td>\n",
       "    </tr>\n",
       "    <tr>\n",
       "      <th>2024-11-08 18:00:00</th>\n",
       "      <td>98.65</td>\n",
       "      <td>0.07</td>\n",
       "      <td>38.28</td>\n",
       "      <td>0.0</td>\n",
       "      <td>0.07</td>\n",
       "    </tr>\n",
       "    <tr>\n",
       "      <th>2024-11-08 19:00:00</th>\n",
       "      <td>98.80</td>\n",
       "      <td>0.15</td>\n",
       "      <td>38.28</td>\n",
       "      <td>0.0</td>\n",
       "      <td>0.15</td>\n",
       "    </tr>\n",
       "    <tr>\n",
       "      <th>2024-11-08 20:00:00</th>\n",
       "      <td>99.25</td>\n",
       "      <td>0.45</td>\n",
       "      <td>NaN</td>\n",
       "      <td>NaN</td>\n",
       "      <td>0.45</td>\n",
       "    </tr>\n",
       "    <tr>\n",
       "      <th>2024-11-08 21:00:00</th>\n",
       "      <td>99.34</td>\n",
       "      <td>0.09</td>\n",
       "      <td>NaN</td>\n",
       "      <td>NaN</td>\n",
       "      <td>0.09</td>\n",
       "    </tr>\n",
       "  </tbody>\n",
       "</table>\n",
       "</div>"
      ],
      "text/plain": [
       "                     energy_kWh_x  delta_energy_x  energy_kWh_y  \\\n",
       "time                                                              \n",
       "2024-11-08 17:00:00         98.58            0.09         38.28   \n",
       "2024-11-08 18:00:00         98.65            0.07         38.28   \n",
       "2024-11-08 19:00:00         98.80            0.15         38.28   \n",
       "2024-11-08 20:00:00         99.25            0.45           NaN   \n",
       "2024-11-08 21:00:00         99.34            0.09           NaN   \n",
       "\n",
       "                     delta_energy_y  delta_energy  \n",
       "time                                               \n",
       "2024-11-08 17:00:00             0.0          0.09  \n",
       "2024-11-08 18:00:00             0.0          0.07  \n",
       "2024-11-08 19:00:00             0.0          0.15  \n",
       "2024-11-08 20:00:00             NaN          0.45  \n",
       "2024-11-08 21:00:00             NaN          0.09  "
      ]
     },
     "execution_count": 557,
     "metadata": {},
     "output_type": "execute_result"
    }
   ],
   "source": [
    "# Sumar delta_energy_x y delta_energy_y reemplazando los NaN por ceros\n",
    "# De esta forma si alguno de los sensores ha fallado al menos se tendrá el valor del otro\n",
    "df['delta_energy'] = df['delta_energy_x'].fillna(0) + df['delta_energy_y'].fillna(0)\n",
    "df.tail()"
   ]
  },
  {
   "cell_type": "code",
   "execution_count": 558,
   "metadata": {},
   "outputs": [
    {
     "data": {
      "text/html": [
       "<div>\n",
       "<style scoped>\n",
       "    .dataframe tbody tr th:only-of-type {\n",
       "        vertical-align: middle;\n",
       "    }\n",
       "\n",
       "    .dataframe tbody tr th {\n",
       "        vertical-align: top;\n",
       "    }\n",
       "\n",
       "    .dataframe thead th {\n",
       "        text-align: right;\n",
       "    }\n",
       "</style>\n",
       "<table border=\"1\" class=\"dataframe\">\n",
       "  <thead>\n",
       "    <tr style=\"text-align: right;\">\n",
       "      <th></th>\n",
       "      <th>energy_kWh_x</th>\n",
       "      <th>delta_energy_x</th>\n",
       "      <th>energy_kWh_y</th>\n",
       "      <th>delta_energy_y</th>\n",
       "      <th>delta_energy</th>\n",
       "    </tr>\n",
       "    <tr>\n",
       "      <th>time</th>\n",
       "      <th></th>\n",
       "      <th></th>\n",
       "      <th></th>\n",
       "      <th></th>\n",
       "      <th></th>\n",
       "    </tr>\n",
       "  </thead>\n",
       "  <tbody>\n",
       "    <tr>\n",
       "      <th>2024-11-08 17:00:00</th>\n",
       "      <td>98.58</td>\n",
       "      <td>0.09</td>\n",
       "      <td>38.28</td>\n",
       "      <td>0.0</td>\n",
       "      <td>0.09</td>\n",
       "    </tr>\n",
       "    <tr>\n",
       "      <th>2024-11-08 18:00:00</th>\n",
       "      <td>98.65</td>\n",
       "      <td>0.07</td>\n",
       "      <td>38.28</td>\n",
       "      <td>0.0</td>\n",
       "      <td>0.07</td>\n",
       "    </tr>\n",
       "    <tr>\n",
       "      <th>2024-11-08 19:00:00</th>\n",
       "      <td>98.80</td>\n",
       "      <td>0.15</td>\n",
       "      <td>38.28</td>\n",
       "      <td>0.0</td>\n",
       "      <td>0.15</td>\n",
       "    </tr>\n",
       "    <tr>\n",
       "      <th>2024-11-08 20:00:00</th>\n",
       "      <td>99.25</td>\n",
       "      <td>0.45</td>\n",
       "      <td>NaN</td>\n",
       "      <td>NaN</td>\n",
       "      <td>NaN</td>\n",
       "    </tr>\n",
       "    <tr>\n",
       "      <th>2024-11-08 21:00:00</th>\n",
       "      <td>99.34</td>\n",
       "      <td>0.09</td>\n",
       "      <td>NaN</td>\n",
       "      <td>NaN</td>\n",
       "      <td>NaN</td>\n",
       "    </tr>\n",
       "  </tbody>\n",
       "</table>\n",
       "</div>"
      ],
      "text/plain": [
       "                     energy_kWh_x  delta_energy_x  energy_kWh_y  \\\n",
       "time                                                              \n",
       "2024-11-08 17:00:00         98.58            0.09         38.28   \n",
       "2024-11-08 18:00:00         98.65            0.07         38.28   \n",
       "2024-11-08 19:00:00         98.80            0.15         38.28   \n",
       "2024-11-08 20:00:00         99.25            0.45           NaN   \n",
       "2024-11-08 21:00:00         99.34            0.09           NaN   \n",
       "\n",
       "                     delta_energy_y  delta_energy  \n",
       "time                                               \n",
       "2024-11-08 17:00:00             0.0          0.09  \n",
       "2024-11-08 18:00:00             0.0          0.07  \n",
       "2024-11-08 19:00:00             0.0          0.15  \n",
       "2024-11-08 20:00:00             NaN           NaN  \n",
       "2024-11-08 21:00:00             NaN           NaN  "
      ]
     },
     "execution_count": 558,
     "metadata": {},
     "output_type": "execute_result"
    }
   ],
   "source": [
    "df['delta_energy'] = df['delta_energy_x'] + df['delta_energy_y']\n",
    "df.tail()"
   ]
  },
  {
   "cell_type": "code",
   "execution_count": 559,
   "metadata": {},
   "outputs": [
    {
     "data": {
      "text/html": [
       "<div>\n",
       "<style scoped>\n",
       "    .dataframe tbody tr th:only-of-type {\n",
       "        vertical-align: middle;\n",
       "    }\n",
       "\n",
       "    .dataframe tbody tr th {\n",
       "        vertical-align: top;\n",
       "    }\n",
       "\n",
       "    .dataframe thead th {\n",
       "        text-align: right;\n",
       "    }\n",
       "</style>\n",
       "<table border=\"1\" class=\"dataframe\">\n",
       "  <thead>\n",
       "    <tr style=\"text-align: right;\">\n",
       "      <th></th>\n",
       "      <th>time</th>\n",
       "      <th>delta_energy</th>\n",
       "    </tr>\n",
       "  </thead>\n",
       "  <tbody>\n",
       "    <tr>\n",
       "      <th>1010</th>\n",
       "      <td>2024-11-08 17:00:00</td>\n",
       "      <td>0.09</td>\n",
       "    </tr>\n",
       "    <tr>\n",
       "      <th>1011</th>\n",
       "      <td>2024-11-08 18:00:00</td>\n",
       "      <td>0.07</td>\n",
       "    </tr>\n",
       "    <tr>\n",
       "      <th>1012</th>\n",
       "      <td>2024-11-08 19:00:00</td>\n",
       "      <td>0.15</td>\n",
       "    </tr>\n",
       "    <tr>\n",
       "      <th>1013</th>\n",
       "      <td>2024-11-08 20:00:00</td>\n",
       "      <td>NaN</td>\n",
       "    </tr>\n",
       "    <tr>\n",
       "      <th>1014</th>\n",
       "      <td>2024-11-08 21:00:00</td>\n",
       "      <td>NaN</td>\n",
       "    </tr>\n",
       "  </tbody>\n",
       "</table>\n",
       "</div>"
      ],
      "text/plain": [
       "                    time  delta_energy\n",
       "1010 2024-11-08 17:00:00          0.09\n",
       "1011 2024-11-08 18:00:00          0.07\n",
       "1012 2024-11-08 19:00:00          0.15\n",
       "1013 2024-11-08 20:00:00           NaN\n",
       "1014 2024-11-08 21:00:00           NaN"
      ]
     },
     "execution_count": 559,
     "metadata": {},
     "output_type": "execute_result"
    }
   ],
   "source": [
    "# Dejar df solo con las columnas time y delta_energy\n",
    "# Hacer que time deje de ser el índice\n",
    "df.reset_index(inplace=True)\n",
    "df = df[['time', 'delta_energy']]\n",
    "df.tail()"
   ]
  },
  {
   "cell_type": "code",
   "execution_count": 560,
   "metadata": {},
   "outputs": [
    {
     "data": {
      "text/html": [
       "<div>\n",
       "<style scoped>\n",
       "    .dataframe tbody tr th:only-of-type {\n",
       "        vertical-align: middle;\n",
       "    }\n",
       "\n",
       "    .dataframe tbody tr th {\n",
       "        vertical-align: top;\n",
       "    }\n",
       "\n",
       "    .dataframe thead th {\n",
       "        text-align: right;\n",
       "    }\n",
       "</style>\n",
       "<table border=\"1\" class=\"dataframe\">\n",
       "  <thead>\n",
       "    <tr style=\"text-align: right;\">\n",
       "      <th></th>\n",
       "      <th>time</th>\n",
       "      <th>delta_energy</th>\n",
       "    </tr>\n",
       "  </thead>\n",
       "  <tbody>\n",
       "    <tr>\n",
       "      <th>0</th>\n",
       "      <td>2024-09-27 15:00:00</td>\n",
       "      <td>NaN</td>\n",
       "    </tr>\n",
       "    <tr>\n",
       "      <th>100</th>\n",
       "      <td>2024-10-01 19:00:00</td>\n",
       "      <td>NaN</td>\n",
       "    </tr>\n",
       "    <tr>\n",
       "      <th>186</th>\n",
       "      <td>2024-10-05 09:00:00</td>\n",
       "      <td>NaN</td>\n",
       "    </tr>\n",
       "    <tr>\n",
       "      <th>200</th>\n",
       "      <td>2024-10-05 23:00:00</td>\n",
       "      <td>NaN</td>\n",
       "    </tr>\n",
       "    <tr>\n",
       "      <th>300</th>\n",
       "      <td>2024-10-10 03:00:00</td>\n",
       "      <td>NaN</td>\n",
       "    </tr>\n",
       "    <tr>\n",
       "      <th>400</th>\n",
       "      <td>2024-10-14 07:00:00</td>\n",
       "      <td>NaN</td>\n",
       "    </tr>\n",
       "    <tr>\n",
       "      <th>600</th>\n",
       "      <td>2024-10-22 15:00:00</td>\n",
       "      <td>NaN</td>\n",
       "    </tr>\n",
       "    <tr>\n",
       "      <th>1013</th>\n",
       "      <td>2024-11-08 20:00:00</td>\n",
       "      <td>NaN</td>\n",
       "    </tr>\n",
       "    <tr>\n",
       "      <th>1014</th>\n",
       "      <td>2024-11-08 21:00:00</td>\n",
       "      <td>NaN</td>\n",
       "    </tr>\n",
       "  </tbody>\n",
       "</table>\n",
       "</div>"
      ],
      "text/plain": [
       "                    time  delta_energy\n",
       "0    2024-09-27 15:00:00           NaN\n",
       "100  2024-10-01 19:00:00           NaN\n",
       "186  2024-10-05 09:00:00           NaN\n",
       "200  2024-10-05 23:00:00           NaN\n",
       "300  2024-10-10 03:00:00           NaN\n",
       "400  2024-10-14 07:00:00           NaN\n",
       "600  2024-10-22 15:00:00           NaN\n",
       "1013 2024-11-08 20:00:00           NaN\n",
       "1014 2024-11-08 21:00:00           NaN"
      ]
     },
     "execution_count": 560,
     "metadata": {},
     "output_type": "execute_result"
    }
   ],
   "source": [
    "# Provocar valores NaN en delta_energy en algunos índices\n",
    "df.loc[100,'delta_energy'] = np.nan\n",
    "df.loc[200,'delta_energy'] = np.nan\n",
    "df.loc[300,'delta_energy'] = np.nan\n",
    "df.loc[400,'delta_energy'] = np.nan\n",
    "df.loc[600,'delta_energy'] = np.nan\n",
    "# Mostrar si hay valores NaN en delta_energy\n",
    "df[df['delta_energy'].isnull()]\n"
   ]
  },
  {
   "cell_type": "markdown",
   "metadata": {},
   "source": [
    "# Entrenar el modelo Prophet y hacer predicciones"
   ]
  },
  {
   "cell_type": "code",
   "execution_count": 561,
   "metadata": {},
   "outputs": [
    {
     "name": "stderr",
     "output_type": "stream",
     "text": [
      "DEBUG:cmdstanpy:cmd: where.exe tbb.dll\n",
      "cwd: None\n",
      "DEBUG:cmdstanpy:TBB already found in load path\n",
      "INFO:prophet:Disabling yearly seasonality. Run prophet with yearly_seasonality=True to override this.\n",
      "DEBUG:cmdstanpy:input tempfile: C:\\Users\\Enrique\\AppData\\Local\\Temp\\tmpqishzjp0\\13py8zck.json\n",
      "DEBUG:cmdstanpy:input tempfile: C:\\Users\\Enrique\\AppData\\Local\\Temp\\tmpqishzjp0\\ewc7tfs3.json\n",
      "DEBUG:cmdstanpy:idx 0\n",
      "DEBUG:cmdstanpy:running CmdStan, num_threads: None\n",
      "DEBUG:cmdstanpy:CmdStan args: ['C:\\\\vmware_share\\\\tfg_dev_env\\\\venv\\\\Lib\\\\site-packages\\\\prophet\\\\stan_model\\\\prophet_model.bin', 'random', 'seed=51319', 'data', 'file=C:\\\\Users\\\\Enrique\\\\AppData\\\\Local\\\\Temp\\\\tmpqishzjp0\\\\13py8zck.json', 'init=C:\\\\Users\\\\Enrique\\\\AppData\\\\Local\\\\Temp\\\\tmpqishzjp0\\\\ewc7tfs3.json', 'output', 'file=C:\\\\Users\\\\Enrique\\\\AppData\\\\Local\\\\Temp\\\\tmpqishzjp0\\\\prophet_modeljeprv127\\\\prophet_model-20241108230417.csv', 'method=optimize', 'algorithm=lbfgs', 'iter=10000']\n",
      "23:04:17 - cmdstanpy - INFO - Chain [1] start processing\n",
      "INFO:cmdstanpy:Chain [1] start processing\n",
      "23:04:17 - cmdstanpy - INFO - Chain [1] done processing\n",
      "INFO:cmdstanpy:Chain [1] done processing\n"
     ]
    },
    {
     "data": {
      "text/plain": [
       "<prophet.forecaster.Prophet at 0x188808abe00>"
      ]
     },
     "execution_count": 561,
     "metadata": {},
     "output_type": "execute_result"
    }
   ],
   "source": [
    "df.columns = ['ds', 'y']\n",
    "model = Prophet()\n",
    "model.fit(df)"
   ]
  },
  {
   "cell_type": "code",
   "execution_count": 562,
   "metadata": {},
   "outputs": [
    {
     "data": {
      "text/html": [
       "<div>\n",
       "<style scoped>\n",
       "    .dataframe tbody tr th:only-of-type {\n",
       "        vertical-align: middle;\n",
       "    }\n",
       "\n",
       "    .dataframe tbody tr th {\n",
       "        vertical-align: top;\n",
       "    }\n",
       "\n",
       "    .dataframe thead th {\n",
       "        text-align: right;\n",
       "    }\n",
       "</style>\n",
       "<table border=\"1\" class=\"dataframe\">\n",
       "  <thead>\n",
       "    <tr style=\"text-align: right;\">\n",
       "      <th></th>\n",
       "      <th>ds</th>\n",
       "    </tr>\n",
       "  </thead>\n",
       "  <tbody>\n",
       "    <tr>\n",
       "      <th>0</th>\n",
       "      <td>2024-09-27 15:00:00</td>\n",
       "    </tr>\n",
       "    <tr>\n",
       "      <th>1</th>\n",
       "      <td>2024-09-27 16:00:00</td>\n",
       "    </tr>\n",
       "    <tr>\n",
       "      <th>2</th>\n",
       "      <td>2024-09-27 17:00:00</td>\n",
       "    </tr>\n",
       "    <tr>\n",
       "      <th>3</th>\n",
       "      <td>2024-09-27 18:00:00</td>\n",
       "    </tr>\n",
       "    <tr>\n",
       "      <th>4</th>\n",
       "      <td>2024-09-27 19:00:00</td>\n",
       "    </tr>\n",
       "  </tbody>\n",
       "</table>\n",
       "</div>"
      ],
      "text/plain": [
       "                   ds\n",
       "0 2024-09-27 15:00:00\n",
       "1 2024-09-27 16:00:00\n",
       "2 2024-09-27 17:00:00\n",
       "3 2024-09-27 18:00:00\n",
       "4 2024-09-27 19:00:00"
      ]
     },
     "execution_count": 562,
     "metadata": {},
     "output_type": "execute_result"
    }
   ],
   "source": [
    "futurePeriods=12\n",
    "futureFreq='h'\n",
    "future = model.make_future_dataframe(periods=futurePeriods, freq=futureFreq)\n",
    "future.head()"
   ]
  },
  {
   "cell_type": "code",
   "execution_count": 563,
   "metadata": {},
   "outputs": [
    {
     "data": {
      "text/html": [
       "<div>\n",
       "<style scoped>\n",
       "    .dataframe tbody tr th:only-of-type {\n",
       "        vertical-align: middle;\n",
       "    }\n",
       "\n",
       "    .dataframe tbody tr th {\n",
       "        vertical-align: top;\n",
       "    }\n",
       "\n",
       "    .dataframe thead th {\n",
       "        text-align: right;\n",
       "    }\n",
       "</style>\n",
       "<table border=\"1\" class=\"dataframe\">\n",
       "  <thead>\n",
       "    <tr style=\"text-align: right;\">\n",
       "      <th></th>\n",
       "      <th>ds</th>\n",
       "    </tr>\n",
       "  </thead>\n",
       "  <tbody>\n",
       "    <tr>\n",
       "      <th>1015</th>\n",
       "      <td>2024-11-08 22:00:00</td>\n",
       "    </tr>\n",
       "    <tr>\n",
       "      <th>1016</th>\n",
       "      <td>2024-11-08 23:00:00</td>\n",
       "    </tr>\n",
       "    <tr>\n",
       "      <th>1017</th>\n",
       "      <td>2024-11-09 00:00:00</td>\n",
       "    </tr>\n",
       "    <tr>\n",
       "      <th>1018</th>\n",
       "      <td>2024-11-09 01:00:00</td>\n",
       "    </tr>\n",
       "    <tr>\n",
       "      <th>1019</th>\n",
       "      <td>2024-11-09 02:00:00</td>\n",
       "    </tr>\n",
       "    <tr>\n",
       "      <th>1020</th>\n",
       "      <td>2024-11-09 03:00:00</td>\n",
       "    </tr>\n",
       "    <tr>\n",
       "      <th>1021</th>\n",
       "      <td>2024-11-09 04:00:00</td>\n",
       "    </tr>\n",
       "    <tr>\n",
       "      <th>1022</th>\n",
       "      <td>2024-11-09 05:00:00</td>\n",
       "    </tr>\n",
       "    <tr>\n",
       "      <th>1023</th>\n",
       "      <td>2024-11-09 06:00:00</td>\n",
       "    </tr>\n",
       "    <tr>\n",
       "      <th>1024</th>\n",
       "      <td>2024-11-09 07:00:00</td>\n",
       "    </tr>\n",
       "    <tr>\n",
       "      <th>1025</th>\n",
       "      <td>2024-11-09 08:00:00</td>\n",
       "    </tr>\n",
       "    <tr>\n",
       "      <th>1026</th>\n",
       "      <td>2024-11-09 09:00:00</td>\n",
       "    </tr>\n",
       "  </tbody>\n",
       "</table>\n",
       "</div>"
      ],
      "text/plain": [
       "                      ds\n",
       "1015 2024-11-08 22:00:00\n",
       "1016 2024-11-08 23:00:00\n",
       "1017 2024-11-09 00:00:00\n",
       "1018 2024-11-09 01:00:00\n",
       "1019 2024-11-09 02:00:00\n",
       "1020 2024-11-09 03:00:00\n",
       "1021 2024-11-09 04:00:00\n",
       "1022 2024-11-09 05:00:00\n",
       "1023 2024-11-09 06:00:00\n",
       "1024 2024-11-09 07:00:00\n",
       "1025 2024-11-09 08:00:00\n",
       "1026 2024-11-09 09:00:00"
      ]
     },
     "execution_count": 563,
     "metadata": {},
     "output_type": "execute_result"
    }
   ],
   "source": [
    "future.tail(futurePeriods)"
   ]
  },
  {
   "cell_type": "markdown",
   "metadata": {},
   "source": [
    "Se comprueba que si hacemos tail con la misma cantidad de periodos que se ha indicado en futurePeriods la primera predicción será para la hora actual"
   ]
  },
  {
   "cell_type": "code",
   "execution_count": 564,
   "metadata": {},
   "outputs": [
    {
     "data": {
      "text/html": [
       "<div>\n",
       "<style scoped>\n",
       "    .dataframe tbody tr th:only-of-type {\n",
       "        vertical-align: middle;\n",
       "    }\n",
       "\n",
       "    .dataframe tbody tr th {\n",
       "        vertical-align: top;\n",
       "    }\n",
       "\n",
       "    .dataframe thead th {\n",
       "        text-align: right;\n",
       "    }\n",
       "</style>\n",
       "<table border=\"1\" class=\"dataframe\">\n",
       "  <thead>\n",
       "    <tr style=\"text-align: right;\">\n",
       "      <th></th>\n",
       "      <th>ds</th>\n",
       "      <th>trend</th>\n",
       "      <th>yhat_lower</th>\n",
       "      <th>yhat_upper</th>\n",
       "      <th>trend_lower</th>\n",
       "      <th>trend_upper</th>\n",
       "      <th>additive_terms</th>\n",
       "      <th>additive_terms_lower</th>\n",
       "      <th>additive_terms_upper</th>\n",
       "      <th>daily</th>\n",
       "      <th>daily_lower</th>\n",
       "      <th>daily_upper</th>\n",
       "      <th>weekly</th>\n",
       "      <th>weekly_lower</th>\n",
       "      <th>weekly_upper</th>\n",
       "      <th>multiplicative_terms</th>\n",
       "      <th>multiplicative_terms_lower</th>\n",
       "      <th>multiplicative_terms_upper</th>\n",
       "      <th>yhat</th>\n",
       "    </tr>\n",
       "  </thead>\n",
       "  <tbody>\n",
       "    <tr>\n",
       "      <th>0</th>\n",
       "      <td>2024-09-27 15:00:00</td>\n",
       "      <td>0.153905</td>\n",
       "      <td>-0.050881</td>\n",
       "      <td>0.326162</td>\n",
       "      <td>0.153905</td>\n",
       "      <td>0.153905</td>\n",
       "      <td>-0.024081</td>\n",
       "      <td>-0.024081</td>\n",
       "      <td>-0.024081</td>\n",
       "      <td>-0.014967</td>\n",
       "      <td>-0.014967</td>\n",
       "      <td>-0.014967</td>\n",
       "      <td>-0.009114</td>\n",
       "      <td>-0.009114</td>\n",
       "      <td>-0.009114</td>\n",
       "      <td>0.0</td>\n",
       "      <td>0.0</td>\n",
       "      <td>0.0</td>\n",
       "      <td>0.129824</td>\n",
       "    </tr>\n",
       "    <tr>\n",
       "      <th>1</th>\n",
       "      <td>2024-09-27 16:00:00</td>\n",
       "      <td>0.153929</td>\n",
       "      <td>-0.063331</td>\n",
       "      <td>0.322778</td>\n",
       "      <td>0.153929</td>\n",
       "      <td>0.153929</td>\n",
       "      <td>-0.038980</td>\n",
       "      <td>-0.038980</td>\n",
       "      <td>-0.038980</td>\n",
       "      <td>-0.029912</td>\n",
       "      <td>-0.029912</td>\n",
       "      <td>-0.029912</td>\n",
       "      <td>-0.009068</td>\n",
       "      <td>-0.009068</td>\n",
       "      <td>-0.009068</td>\n",
       "      <td>0.0</td>\n",
       "      <td>0.0</td>\n",
       "      <td>0.0</td>\n",
       "      <td>0.114948</td>\n",
       "    </tr>\n",
       "    <tr>\n",
       "      <th>2</th>\n",
       "      <td>2024-09-27 17:00:00</td>\n",
       "      <td>0.153952</td>\n",
       "      <td>-0.062845</td>\n",
       "      <td>0.314046</td>\n",
       "      <td>0.153952</td>\n",
       "      <td>0.153952</td>\n",
       "      <td>-0.021024</td>\n",
       "      <td>-0.021024</td>\n",
       "      <td>-0.021024</td>\n",
       "      <td>-0.011987</td>\n",
       "      <td>-0.011987</td>\n",
       "      <td>-0.011987</td>\n",
       "      <td>-0.009036</td>\n",
       "      <td>-0.009036</td>\n",
       "      <td>-0.009036</td>\n",
       "      <td>0.0</td>\n",
       "      <td>0.0</td>\n",
       "      <td>0.0</td>\n",
       "      <td>0.132928</td>\n",
       "    </tr>\n",
       "    <tr>\n",
       "      <th>3</th>\n",
       "      <td>2024-09-27 18:00:00</td>\n",
       "      <td>0.153975</td>\n",
       "      <td>-0.037765</td>\n",
       "      <td>0.340837</td>\n",
       "      <td>0.153975</td>\n",
       "      <td>0.153975</td>\n",
       "      <td>0.004354</td>\n",
       "      <td>0.004354</td>\n",
       "      <td>0.004354</td>\n",
       "      <td>0.013379</td>\n",
       "      <td>0.013379</td>\n",
       "      <td>0.013379</td>\n",
       "      <td>-0.009025</td>\n",
       "      <td>-0.009025</td>\n",
       "      <td>-0.009025</td>\n",
       "      <td>0.0</td>\n",
       "      <td>0.0</td>\n",
       "      <td>0.0</td>\n",
       "      <td>0.158329</td>\n",
       "    </tr>\n",
       "    <tr>\n",
       "      <th>4</th>\n",
       "      <td>2024-09-27 19:00:00</td>\n",
       "      <td>0.153999</td>\n",
       "      <td>-0.038743</td>\n",
       "      <td>0.369520</td>\n",
       "      <td>0.153999</td>\n",
       "      <td>0.153999</td>\n",
       "      <td>0.013789</td>\n",
       "      <td>0.013789</td>\n",
       "      <td>0.013789</td>\n",
       "      <td>0.022831</td>\n",
       "      <td>0.022831</td>\n",
       "      <td>0.022831</td>\n",
       "      <td>-0.009042</td>\n",
       "      <td>-0.009042</td>\n",
       "      <td>-0.009042</td>\n",
       "      <td>0.0</td>\n",
       "      <td>0.0</td>\n",
       "      <td>0.0</td>\n",
       "      <td>0.167788</td>\n",
       "    </tr>\n",
       "  </tbody>\n",
       "</table>\n",
       "</div>"
      ],
      "text/plain": [
       "                   ds     trend  yhat_lower  yhat_upper  trend_lower  \\\n",
       "0 2024-09-27 15:00:00  0.153905   -0.050881    0.326162     0.153905   \n",
       "1 2024-09-27 16:00:00  0.153929   -0.063331    0.322778     0.153929   \n",
       "2 2024-09-27 17:00:00  0.153952   -0.062845    0.314046     0.153952   \n",
       "3 2024-09-27 18:00:00  0.153975   -0.037765    0.340837     0.153975   \n",
       "4 2024-09-27 19:00:00  0.153999   -0.038743    0.369520     0.153999   \n",
       "\n",
       "   trend_upper  additive_terms  additive_terms_lower  additive_terms_upper  \\\n",
       "0     0.153905       -0.024081             -0.024081             -0.024081   \n",
       "1     0.153929       -0.038980             -0.038980             -0.038980   \n",
       "2     0.153952       -0.021024             -0.021024             -0.021024   \n",
       "3     0.153975        0.004354              0.004354              0.004354   \n",
       "4     0.153999        0.013789              0.013789              0.013789   \n",
       "\n",
       "      daily  daily_lower  daily_upper    weekly  weekly_lower  weekly_upper  \\\n",
       "0 -0.014967    -0.014967    -0.014967 -0.009114     -0.009114     -0.009114   \n",
       "1 -0.029912    -0.029912    -0.029912 -0.009068     -0.009068     -0.009068   \n",
       "2 -0.011987    -0.011987    -0.011987 -0.009036     -0.009036     -0.009036   \n",
       "3  0.013379     0.013379     0.013379 -0.009025     -0.009025     -0.009025   \n",
       "4  0.022831     0.022831     0.022831 -0.009042     -0.009042     -0.009042   \n",
       "\n",
       "   multiplicative_terms  multiplicative_terms_lower  \\\n",
       "0                   0.0                         0.0   \n",
       "1                   0.0                         0.0   \n",
       "2                   0.0                         0.0   \n",
       "3                   0.0                         0.0   \n",
       "4                   0.0                         0.0   \n",
       "\n",
       "   multiplicative_terms_upper      yhat  \n",
       "0                         0.0  0.129824  \n",
       "1                         0.0  0.114948  \n",
       "2                         0.0  0.132928  \n",
       "3                         0.0  0.158329  \n",
       "4                         0.0  0.167788  "
      ]
     },
     "execution_count": 564,
     "metadata": {},
     "output_type": "execute_result"
    }
   ],
   "source": [
    "forecast = model.predict(future)\n",
    "forecast.head()"
   ]
  },
  {
   "cell_type": "code",
   "execution_count": 565,
   "metadata": {},
   "outputs": [
    {
     "data": {
      "text/plain": [
       "ds                            0\n",
       "trend                         0\n",
       "yhat_lower                    0\n",
       "yhat_upper                    0\n",
       "trend_lower                   0\n",
       "trend_upper                   0\n",
       "additive_terms                0\n",
       "additive_terms_lower          0\n",
       "additive_terms_upper          0\n",
       "daily                         0\n",
       "daily_lower                   0\n",
       "daily_upper                   0\n",
       "weekly                        0\n",
       "weekly_lower                  0\n",
       "weekly_upper                  0\n",
       "multiplicative_terms          0\n",
       "multiplicative_terms_lower    0\n",
       "multiplicative_terms_upper    0\n",
       "yhat                          0\n",
       "dtype: int64"
      ]
     },
     "execution_count": 565,
     "metadata": {},
     "output_type": "execute_result"
    }
   ],
   "source": [
    "# Comprobar si hay valores NaN en forecast y en que columnas\n",
    "forecast.isnull().sum()\n"
   ]
  },
  {
   "cell_type": "markdown",
   "metadata": {},
   "source": [
    "Se comprueba que a pesar de los valores NaN, Prophet a hecho un pronostico sin NaN. Por tanto en la medida de que no estemos seguros de como tratar los datos es preferible dejar valores NaN que asignar datos no confiables, ya que Prophet seguirá haciendo bien su pronostico."
   ]
  },
  {
   "cell_type": "code",
   "execution_count": 566,
   "metadata": {},
   "outputs": [
    {
     "data": {
      "text/html": [
       "<div>\n",
       "<style scoped>\n",
       "    .dataframe tbody tr th:only-of-type {\n",
       "        vertical-align: middle;\n",
       "    }\n",
       "\n",
       "    .dataframe tbody tr th {\n",
       "        vertical-align: top;\n",
       "    }\n",
       "\n",
       "    .dataframe thead th {\n",
       "        text-align: right;\n",
       "    }\n",
       "</style>\n",
       "<table border=\"1\" class=\"dataframe\">\n",
       "  <thead>\n",
       "    <tr style=\"text-align: right;\">\n",
       "      <th></th>\n",
       "      <th>trend</th>\n",
       "      <th>yhat_lower</th>\n",
       "      <th>yhat_upper</th>\n",
       "      <th>trend_lower</th>\n",
       "      <th>trend_upper</th>\n",
       "      <th>additive_terms</th>\n",
       "      <th>additive_terms_lower</th>\n",
       "      <th>additive_terms_upper</th>\n",
       "      <th>daily</th>\n",
       "      <th>daily_lower</th>\n",
       "      <th>daily_upper</th>\n",
       "      <th>weekly</th>\n",
       "      <th>weekly_lower</th>\n",
       "      <th>weekly_upper</th>\n",
       "      <th>multiplicative_terms</th>\n",
       "      <th>multiplicative_terms_lower</th>\n",
       "      <th>multiplicative_terms_upper</th>\n",
       "      <th>yhat</th>\n",
       "    </tr>\n",
       "    <tr>\n",
       "      <th>ds</th>\n",
       "      <th></th>\n",
       "      <th></th>\n",
       "      <th></th>\n",
       "      <th></th>\n",
       "      <th></th>\n",
       "      <th></th>\n",
       "      <th></th>\n",
       "      <th></th>\n",
       "      <th></th>\n",
       "      <th></th>\n",
       "      <th></th>\n",
       "      <th></th>\n",
       "      <th></th>\n",
       "      <th></th>\n",
       "      <th></th>\n",
       "      <th></th>\n",
       "      <th></th>\n",
       "      <th></th>\n",
       "    </tr>\n",
       "  </thead>\n",
       "  <tbody>\n",
       "    <tr>\n",
       "      <th>2024-11-08 22:00:00+00:00</th>\n",
       "      <td>0.170546</td>\n",
       "      <td>-0.038570</td>\n",
       "      <td>0.357548</td>\n",
       "      <td>0.170546</td>\n",
       "      <td>0.170546</td>\n",
       "      <td>-0.022576</td>\n",
       "      <td>-0.022576</td>\n",
       "      <td>-0.022576</td>\n",
       "      <td>-0.013255</td>\n",
       "      <td>-0.013255</td>\n",
       "      <td>-0.013255</td>\n",
       "      <td>-0.009321</td>\n",
       "      <td>-0.009321</td>\n",
       "      <td>-0.009321</td>\n",
       "      <td>0.0</td>\n",
       "      <td>0.0</td>\n",
       "      <td>0.0</td>\n",
       "      <td>0.147970</td>\n",
       "    </tr>\n",
       "    <tr>\n",
       "      <th>2024-11-08 23:00:00+00:00</th>\n",
       "      <td>0.170555</td>\n",
       "      <td>-0.062554</td>\n",
       "      <td>0.318659</td>\n",
       "      <td>0.170555</td>\n",
       "      <td>0.170555</td>\n",
       "      <td>-0.035439</td>\n",
       "      <td>-0.035439</td>\n",
       "      <td>-0.035439</td>\n",
       "      <td>-0.025934</td>\n",
       "      <td>-0.025934</td>\n",
       "      <td>-0.025934</td>\n",
       "      <td>-0.009506</td>\n",
       "      <td>-0.009506</td>\n",
       "      <td>-0.009506</td>\n",
       "      <td>0.0</td>\n",
       "      <td>0.0</td>\n",
       "      <td>0.0</td>\n",
       "      <td>0.135116</td>\n",
       "    </tr>\n",
       "    <tr>\n",
       "      <th>2024-11-09 00:00:00+00:00</th>\n",
       "      <td>0.170564</td>\n",
       "      <td>-0.074420</td>\n",
       "      <td>0.304180</td>\n",
       "      <td>0.170564</td>\n",
       "      <td>0.170564</td>\n",
       "      <td>-0.060539</td>\n",
       "      <td>-0.060539</td>\n",
       "      <td>-0.060539</td>\n",
       "      <td>-0.050798</td>\n",
       "      <td>-0.050798</td>\n",
       "      <td>-0.050798</td>\n",
       "      <td>-0.009742</td>\n",
       "      <td>-0.009742</td>\n",
       "      <td>-0.009742</td>\n",
       "      <td>0.0</td>\n",
       "      <td>0.0</td>\n",
       "      <td>0.0</td>\n",
       "      <td>0.110025</td>\n",
       "    </tr>\n",
       "    <tr>\n",
       "      <th>2024-11-09 01:00:00+00:00</th>\n",
       "      <td>0.170573</td>\n",
       "      <td>-0.117748</td>\n",
       "      <td>0.270150</td>\n",
       "      <td>0.170573</td>\n",
       "      <td>0.170573</td>\n",
       "      <td>-0.096423</td>\n",
       "      <td>-0.096423</td>\n",
       "      <td>-0.096423</td>\n",
       "      <td>-0.086392</td>\n",
       "      <td>-0.086392</td>\n",
       "      <td>-0.086392</td>\n",
       "      <td>-0.010031</td>\n",
       "      <td>-0.010031</td>\n",
       "      <td>-0.010031</td>\n",
       "      <td>0.0</td>\n",
       "      <td>0.0</td>\n",
       "      <td>0.0</td>\n",
       "      <td>0.074150</td>\n",
       "    </tr>\n",
       "    <tr>\n",
       "      <th>2024-11-09 02:00:00+00:00</th>\n",
       "      <td>0.170582</td>\n",
       "      <td>-0.139719</td>\n",
       "      <td>0.233171</td>\n",
       "      <td>0.170582</td>\n",
       "      <td>0.170582</td>\n",
       "      <td>-0.123003</td>\n",
       "      <td>-0.123003</td>\n",
       "      <td>-0.123003</td>\n",
       "      <td>-0.112630</td>\n",
       "      <td>-0.112630</td>\n",
       "      <td>-0.112630</td>\n",
       "      <td>-0.010373</td>\n",
       "      <td>-0.010373</td>\n",
       "      <td>-0.010373</td>\n",
       "      <td>0.0</td>\n",
       "      <td>0.0</td>\n",
       "      <td>0.0</td>\n",
       "      <td>0.047579</td>\n",
       "    </tr>\n",
       "    <tr>\n",
       "      <th>2024-11-09 03:00:00+00:00</th>\n",
       "      <td>0.170591</td>\n",
       "      <td>-0.148775</td>\n",
       "      <td>0.266622</td>\n",
       "      <td>0.170591</td>\n",
       "      <td>0.170591</td>\n",
       "      <td>-0.117052</td>\n",
       "      <td>-0.117052</td>\n",
       "      <td>-0.117052</td>\n",
       "      <td>-0.106283</td>\n",
       "      <td>-0.106283</td>\n",
       "      <td>-0.106283</td>\n",
       "      <td>-0.010769</td>\n",
       "      <td>-0.010769</td>\n",
       "      <td>-0.010769</td>\n",
       "      <td>0.0</td>\n",
       "      <td>0.0</td>\n",
       "      <td>0.0</td>\n",
       "      <td>0.053539</td>\n",
       "    </tr>\n",
       "    <tr>\n",
       "      <th>2024-11-09 04:00:00+00:00</th>\n",
       "      <td>0.170601</td>\n",
       "      <td>-0.099941</td>\n",
       "      <td>0.296602</td>\n",
       "      <td>0.170601</td>\n",
       "      <td>0.170601</td>\n",
       "      <td>-0.075440</td>\n",
       "      <td>-0.075440</td>\n",
       "      <td>-0.075440</td>\n",
       "      <td>-0.064224</td>\n",
       "      <td>-0.064224</td>\n",
       "      <td>-0.064224</td>\n",
       "      <td>-0.011216</td>\n",
       "      <td>-0.011216</td>\n",
       "      <td>-0.011216</td>\n",
       "      <td>0.0</td>\n",
       "      <td>0.0</td>\n",
       "      <td>0.0</td>\n",
       "      <td>0.095160</td>\n",
       "    </tr>\n",
       "    <tr>\n",
       "      <th>2024-11-09 05:00:00+00:00</th>\n",
       "      <td>0.170610</td>\n",
       "      <td>-0.038156</td>\n",
       "      <td>0.352853</td>\n",
       "      <td>0.170610</td>\n",
       "      <td>0.170610</td>\n",
       "      <td>-0.022032</td>\n",
       "      <td>-0.022032</td>\n",
       "      <td>-0.022032</td>\n",
       "      <td>-0.010320</td>\n",
       "      <td>-0.010320</td>\n",
       "      <td>-0.010320</td>\n",
       "      <td>-0.011712</td>\n",
       "      <td>-0.011712</td>\n",
       "      <td>-0.011712</td>\n",
       "      <td>0.0</td>\n",
       "      <td>0.0</td>\n",
       "      <td>0.0</td>\n",
       "      <td>0.148578</td>\n",
       "    </tr>\n",
       "    <tr>\n",
       "      <th>2024-11-09 06:00:00+00:00</th>\n",
       "      <td>0.170619</td>\n",
       "      <td>-0.016334</td>\n",
       "      <td>0.383557</td>\n",
       "      <td>0.170619</td>\n",
       "      <td>0.170619</td>\n",
       "      <td>0.011132</td>\n",
       "      <td>0.011132</td>\n",
       "      <td>0.011132</td>\n",
       "      <td>0.023383</td>\n",
       "      <td>0.023383</td>\n",
       "      <td>0.023383</td>\n",
       "      <td>-0.012251</td>\n",
       "      <td>-0.012251</td>\n",
       "      <td>-0.012251</td>\n",
       "      <td>0.0</td>\n",
       "      <td>0.0</td>\n",
       "      <td>0.0</td>\n",
       "      <td>0.181751</td>\n",
       "    </tr>\n",
       "    <tr>\n",
       "      <th>2024-11-09 07:00:00+00:00</th>\n",
       "      <td>0.170628</td>\n",
       "      <td>-0.019420</td>\n",
       "      <td>0.379461</td>\n",
       "      <td>0.170628</td>\n",
       "      <td>0.170628</td>\n",
       "      <td>0.012094</td>\n",
       "      <td>0.012094</td>\n",
       "      <td>0.012094</td>\n",
       "      <td>0.024924</td>\n",
       "      <td>0.024924</td>\n",
       "      <td>0.024924</td>\n",
       "      <td>-0.012829</td>\n",
       "      <td>-0.012829</td>\n",
       "      <td>-0.012829</td>\n",
       "      <td>0.0</td>\n",
       "      <td>0.0</td>\n",
       "      <td>0.0</td>\n",
       "      <td>0.182722</td>\n",
       "    </tr>\n",
       "    <tr>\n",
       "      <th>2024-11-09 08:00:00+00:00</th>\n",
       "      <td>0.170637</td>\n",
       "      <td>-0.025271</td>\n",
       "      <td>0.365765</td>\n",
       "      <td>0.170637</td>\n",
       "      <td>0.170638</td>\n",
       "      <td>-0.000434</td>\n",
       "      <td>-0.000434</td>\n",
       "      <td>-0.000434</td>\n",
       "      <td>0.013006</td>\n",
       "      <td>0.013006</td>\n",
       "      <td>0.013006</td>\n",
       "      <td>-0.013440</td>\n",
       "      <td>-0.013440</td>\n",
       "      <td>-0.013440</td>\n",
       "      <td>0.0</td>\n",
       "      <td>0.0</td>\n",
       "      <td>0.0</td>\n",
       "      <td>0.170204</td>\n",
       "    </tr>\n",
       "    <tr>\n",
       "      <th>2024-11-09 09:00:00+00:00</th>\n",
       "      <td>0.170646</td>\n",
       "      <td>-0.025355</td>\n",
       "      <td>0.384301</td>\n",
       "      <td>0.170645</td>\n",
       "      <td>0.170647</td>\n",
       "      <td>0.004534</td>\n",
       "      <td>0.004534</td>\n",
       "      <td>0.004534</td>\n",
       "      <td>0.018609</td>\n",
       "      <td>0.018609</td>\n",
       "      <td>0.018609</td>\n",
       "      <td>-0.014075</td>\n",
       "      <td>-0.014075</td>\n",
       "      <td>-0.014075</td>\n",
       "      <td>0.0</td>\n",
       "      <td>0.0</td>\n",
       "      <td>0.0</td>\n",
       "      <td>0.175180</td>\n",
       "    </tr>\n",
       "  </tbody>\n",
       "</table>\n",
       "</div>"
      ],
      "text/plain": [
       "                              trend  yhat_lower  yhat_upper  trend_lower  \\\n",
       "ds                                                                         \n",
       "2024-11-08 22:00:00+00:00  0.170546   -0.038570    0.357548     0.170546   \n",
       "2024-11-08 23:00:00+00:00  0.170555   -0.062554    0.318659     0.170555   \n",
       "2024-11-09 00:00:00+00:00  0.170564   -0.074420    0.304180     0.170564   \n",
       "2024-11-09 01:00:00+00:00  0.170573   -0.117748    0.270150     0.170573   \n",
       "2024-11-09 02:00:00+00:00  0.170582   -0.139719    0.233171     0.170582   \n",
       "2024-11-09 03:00:00+00:00  0.170591   -0.148775    0.266622     0.170591   \n",
       "2024-11-09 04:00:00+00:00  0.170601   -0.099941    0.296602     0.170601   \n",
       "2024-11-09 05:00:00+00:00  0.170610   -0.038156    0.352853     0.170610   \n",
       "2024-11-09 06:00:00+00:00  0.170619   -0.016334    0.383557     0.170619   \n",
       "2024-11-09 07:00:00+00:00  0.170628   -0.019420    0.379461     0.170628   \n",
       "2024-11-09 08:00:00+00:00  0.170637   -0.025271    0.365765     0.170637   \n",
       "2024-11-09 09:00:00+00:00  0.170646   -0.025355    0.384301     0.170645   \n",
       "\n",
       "                           trend_upper  additive_terms  additive_terms_lower  \\\n",
       "ds                                                                             \n",
       "2024-11-08 22:00:00+00:00     0.170546       -0.022576             -0.022576   \n",
       "2024-11-08 23:00:00+00:00     0.170555       -0.035439             -0.035439   \n",
       "2024-11-09 00:00:00+00:00     0.170564       -0.060539             -0.060539   \n",
       "2024-11-09 01:00:00+00:00     0.170573       -0.096423             -0.096423   \n",
       "2024-11-09 02:00:00+00:00     0.170582       -0.123003             -0.123003   \n",
       "2024-11-09 03:00:00+00:00     0.170591       -0.117052             -0.117052   \n",
       "2024-11-09 04:00:00+00:00     0.170601       -0.075440             -0.075440   \n",
       "2024-11-09 05:00:00+00:00     0.170610       -0.022032             -0.022032   \n",
       "2024-11-09 06:00:00+00:00     0.170619        0.011132              0.011132   \n",
       "2024-11-09 07:00:00+00:00     0.170628        0.012094              0.012094   \n",
       "2024-11-09 08:00:00+00:00     0.170638       -0.000434             -0.000434   \n",
       "2024-11-09 09:00:00+00:00     0.170647        0.004534              0.004534   \n",
       "\n",
       "                           additive_terms_upper     daily  daily_lower  \\\n",
       "ds                                                                       \n",
       "2024-11-08 22:00:00+00:00             -0.022576 -0.013255    -0.013255   \n",
       "2024-11-08 23:00:00+00:00             -0.035439 -0.025934    -0.025934   \n",
       "2024-11-09 00:00:00+00:00             -0.060539 -0.050798    -0.050798   \n",
       "2024-11-09 01:00:00+00:00             -0.096423 -0.086392    -0.086392   \n",
       "2024-11-09 02:00:00+00:00             -0.123003 -0.112630    -0.112630   \n",
       "2024-11-09 03:00:00+00:00             -0.117052 -0.106283    -0.106283   \n",
       "2024-11-09 04:00:00+00:00             -0.075440 -0.064224    -0.064224   \n",
       "2024-11-09 05:00:00+00:00             -0.022032 -0.010320    -0.010320   \n",
       "2024-11-09 06:00:00+00:00              0.011132  0.023383     0.023383   \n",
       "2024-11-09 07:00:00+00:00              0.012094  0.024924     0.024924   \n",
       "2024-11-09 08:00:00+00:00             -0.000434  0.013006     0.013006   \n",
       "2024-11-09 09:00:00+00:00              0.004534  0.018609     0.018609   \n",
       "\n",
       "                           daily_upper    weekly  weekly_lower  weekly_upper  \\\n",
       "ds                                                                             \n",
       "2024-11-08 22:00:00+00:00    -0.013255 -0.009321     -0.009321     -0.009321   \n",
       "2024-11-08 23:00:00+00:00    -0.025934 -0.009506     -0.009506     -0.009506   \n",
       "2024-11-09 00:00:00+00:00    -0.050798 -0.009742     -0.009742     -0.009742   \n",
       "2024-11-09 01:00:00+00:00    -0.086392 -0.010031     -0.010031     -0.010031   \n",
       "2024-11-09 02:00:00+00:00    -0.112630 -0.010373     -0.010373     -0.010373   \n",
       "2024-11-09 03:00:00+00:00    -0.106283 -0.010769     -0.010769     -0.010769   \n",
       "2024-11-09 04:00:00+00:00    -0.064224 -0.011216     -0.011216     -0.011216   \n",
       "2024-11-09 05:00:00+00:00    -0.010320 -0.011712     -0.011712     -0.011712   \n",
       "2024-11-09 06:00:00+00:00     0.023383 -0.012251     -0.012251     -0.012251   \n",
       "2024-11-09 07:00:00+00:00     0.024924 -0.012829     -0.012829     -0.012829   \n",
       "2024-11-09 08:00:00+00:00     0.013006 -0.013440     -0.013440     -0.013440   \n",
       "2024-11-09 09:00:00+00:00     0.018609 -0.014075     -0.014075     -0.014075   \n",
       "\n",
       "                           multiplicative_terms  multiplicative_terms_lower  \\\n",
       "ds                                                                            \n",
       "2024-11-08 22:00:00+00:00                   0.0                         0.0   \n",
       "2024-11-08 23:00:00+00:00                   0.0                         0.0   \n",
       "2024-11-09 00:00:00+00:00                   0.0                         0.0   \n",
       "2024-11-09 01:00:00+00:00                   0.0                         0.0   \n",
       "2024-11-09 02:00:00+00:00                   0.0                         0.0   \n",
       "2024-11-09 03:00:00+00:00                   0.0                         0.0   \n",
       "2024-11-09 04:00:00+00:00                   0.0                         0.0   \n",
       "2024-11-09 05:00:00+00:00                   0.0                         0.0   \n",
       "2024-11-09 06:00:00+00:00                   0.0                         0.0   \n",
       "2024-11-09 07:00:00+00:00                   0.0                         0.0   \n",
       "2024-11-09 08:00:00+00:00                   0.0                         0.0   \n",
       "2024-11-09 09:00:00+00:00                   0.0                         0.0   \n",
       "\n",
       "                           multiplicative_terms_upper      yhat  \n",
       "ds                                                               \n",
       "2024-11-08 22:00:00+00:00                         0.0  0.147970  \n",
       "2024-11-08 23:00:00+00:00                         0.0  0.135116  \n",
       "2024-11-09 00:00:00+00:00                         0.0  0.110025  \n",
       "2024-11-09 01:00:00+00:00                         0.0  0.074150  \n",
       "2024-11-09 02:00:00+00:00                         0.0  0.047579  \n",
       "2024-11-09 03:00:00+00:00                         0.0  0.053539  \n",
       "2024-11-09 04:00:00+00:00                         0.0  0.095160  \n",
       "2024-11-09 05:00:00+00:00                         0.0  0.148578  \n",
       "2024-11-09 06:00:00+00:00                         0.0  0.181751  \n",
       "2024-11-09 07:00:00+00:00                         0.0  0.182722  \n",
       "2024-11-09 08:00:00+00:00                         0.0  0.170204  \n",
       "2024-11-09 09:00:00+00:00                         0.0  0.175180  "
      ]
     },
     "execution_count": 566,
     "metadata": {},
     "output_type": "execute_result"
    }
   ],
   "source": [
    "forecast=forecast.tail(futurePeriods)\n",
    "forecast['ds'] = pd.to_datetime(forecast['ds']).dt.tz_localize('UTC')\n",
    "forecast = forecast.set_index('ds')\n",
    "forecast"
   ]
  },
  {
   "cell_type": "code",
   "execution_count": 567,
   "metadata": {},
   "outputs": [
    {
     "data": {
      "text/plain": [
       "{Timestamp('2024-11-08 22:00:00+0000', tz='UTC'): 0.1479695344310502,\n",
       " Timestamp('2024-11-08 23:00:00+0000', tz='UTC'): 0.13511580344648028,\n",
       " Timestamp('2024-11-09 00:00:00+0000', tz='UTC'): 0.11002471172026784,\n",
       " Timestamp('2024-11-09 01:00:00+0000', tz='UTC'): 0.07415023694711056,\n",
       " Timestamp('2024-11-09 02:00:00+0000', tz='UTC'): 0.04757930479411393,\n",
       " Timestamp('2024-11-09 03:00:00+0000', tz='UTC'): 0.05353919299086553,\n",
       " Timestamp('2024-11-09 04:00:00+0000', tz='UTC'): 0.09516033715711575,\n",
       " Timestamp('2024-11-09 05:00:00+0000', tz='UTC'): 0.14857764499879558,\n",
       " Timestamp('2024-11-09 06:00:00+0000', tz='UTC'): 0.18175073303184774,\n",
       " Timestamp('2024-11-09 07:00:00+0000', tz='UTC'): 0.1827222744724539,\n",
       " Timestamp('2024-11-09 08:00:00+0000', tz='UTC'): 0.17020358615547496,\n",
       " Timestamp('2024-11-09 09:00:00+0000', tz='UTC'): 0.1751802802522388}"
      ]
     },
     "execution_count": 567,
     "metadata": {},
     "output_type": "execute_result"
    }
   ],
   "source": [
    "response = forecast.to_dict()['yhat']\n",
    "response\n"
   ]
  },
  {
   "cell_type": "code",
   "execution_count": 568,
   "metadata": {},
   "outputs": [
    {
     "data": {
      "text/plain": [
       "{'2024-11-08T23:00:00': 0.1479695344310502,\n",
       " '2024-11-09T00:00:00': 0.13511580344648028,\n",
       " '2024-11-09T01:00:00': 0.11002471172026784,\n",
       " '2024-11-09T02:00:00': 0.07415023694711056,\n",
       " '2024-11-09T03:00:00': 0.04757930479411393,\n",
       " '2024-11-09T04:00:00': 0.05353919299086553,\n",
       " '2024-11-09T05:00:00': 0.09516033715711575,\n",
       " '2024-11-09T06:00:00': 0.14857764499879558,\n",
       " '2024-11-09T07:00:00': 0.18175073303184774,\n",
       " '2024-11-09T08:00:00': 0.1827222744724539,\n",
       " '2024-11-09T09:00:00': 0.17020358615547496,\n",
       " '2024-11-09T10:00:00': 0.1751802802522388}"
      ]
     },
     "execution_count": 568,
     "metadata": {},
     "output_type": "execute_result"
    }
   ],
   "source": [
    "# Cuando el custom component reciba estos datos deberá convertirlos a la hora local definida en class_local_timezone \n",
    "response = {str(k): v for k, v in response.items()}\n",
    "# Convertir las claves a la hora local\n",
    "response = {pd.to_datetime(k).tz_convert(class_local_timezone).strftime('%Y-%m-%dT%H:%M:%S'): v for k, v in response.items()}\n",
    "response"
   ]
  },
  {
   "cell_type": "markdown",
   "metadata": {},
   "source": [
    "## Replicar las funciones del contenedor Docker\n",
    "Todas las pruebas anteriores van a servir para finalmente dar forma a las funciones que formarán parte del archivo `main.py` que correrá el contenedor del addon **Prophet InfluxDB Addon**.\n",
    "La función `post_energy_queries` replica el funcionamiento que realizará el endpoint `@app.post(\"/energy_queries\")` con la función `async def query(request: EnergyQueryRequest)` en `main.py`."
   ]
  },
  {
   "cell_type": "code",
   "execution_count": 569,
   "metadata": {},
   "outputs": [],
   "source": [
    "def delta_energy_dataframe(points) -> pd.DataFrame:\n",
    "    \"\"\" The query must have GROUP BY time('time(1h)'). Normally 'h' but can be changed to other time intervals.\n",
    "    points come in UTC timezone.\n",
    "    \"\"\"\n",
    "    try:\n",
    "        df = pd.DataFrame(points)\n",
    "        \n",
    "        if 'time' not in df.columns:\n",
    "            raise ValueError(\"Column 'time' not found in the input data\")\n",
    "        \n",
    "        df['time'] = pd.to_datetime(df['time']).dt.tz_localize(None) # Eliminate the timezone for Prophet\n",
    "                \n",
    "        # Convert time to the index of the DataFrame\n",
    "        df.set_index('time', inplace=True)\n",
    "        \n",
    "        if df.empty:\n",
    "            raise ValueError(\"DataFrame is empty after setting 'time' as index\")\n",
    "                \n",
    "        # Create a new column that calculates the hourly energy difference\n",
    "        df['delta_energy'] = df.iloc[:,0].diff() # Calculate the difference between consecutive values\n",
    "        df = df.drop(df.index[0]) # Remove the first row of the DataFrame (the hourly difference of the first record does not make sense)\n",
    "        df = df.drop(df.index[-1]) # Remove the last row of the DataFrame (there isn´t enough data yet in the last hour)\n",
    "                \n",
    "        # If there has been any counter reset, the difference will be negative\n",
    "        mask = df['delta_energy'] < 0\n",
    "        # The next line is replaced because Prophet can manage perfectly the NaN values\n",
    "        # df.loc[mask, 'delta_energy'] = 0 # In those cases, set the difference to 0\n",
    "        df.loc[mask, 'delta_energy'] = np.nan # In those cases, set the difference to NaN\n",
    "        \n",
    "        return df\n",
    "    \n",
    "    except Exception as e:\n",
    "        logging.error(f\"Error processing dataframes: {e}\")\n",
    "\n",
    "def post_energy_queries(str_query1: str, str_query2: str = None, \\\n",
    "                        futurePeriods: int=30, futureFreq: str ='H') -> pd.DataFrame:\n",
    "    \"\"\" Post a query to the InfluxDB database and return the result as a DataFrame \"\"\"\n",
    "    # Simula la función \n",
    "    # @app.post(\"/energy_queries\")\n",
    "    # async def query(request: EnergyQueryRequest):\n",
    "\n",
    "\n",
    "    # Check that the query has the groupby('time(1h)') clause\n",
    "    if 'GROUP BY TIME(' not in str_query1.upper():\n",
    "        print(\"The query must have GROUP BY time('time(1h)')\")\n",
    "        return None\n",
    "        #raise HTTPException(status_code=400, detail=\"The query must have GROUP BY time('time(1h)')\")\n",
    "    if str_query2 is not None and 'GROUP BY TIME(' not in str_query2.upper():\n",
    "        print(\"The query must have GROUP BY time('time(1h)')\")\n",
    "        return None\n",
    "        #raise HTTPException(status_code=400, detail=\"The query must have GROUP BY time('time(1h)')\")\n",
    "    try:\n",
    "        # Connect to InfluxDB\n",
    "        client = InfluxDBClient(host=host, port=port, username=user, password=password, database=dbname)\n",
    "        logging.debug(\"Connected to InfluxDB step 1\")\n",
    "\n",
    "    except Exception as e:\n",
    "        print(f\"Error connecting to InfluxDB step 1: {str(e)}\")\n",
    "        return None\n",
    "        #raise HTTPException(status_code=400, detail=f\"Error connecting to InfluxDB step 1: {str(e)}\")\n",
    "    \n",
    "    try:\n",
    "        # Execute the query\n",
    "        result = client.query(str_query1)\n",
    "        logging.debug(\"Query_1 executed successfully\")\n",
    "        # Convert the result to a DataFrame\n",
    "        points = list(result.get_points()) # Get dates in UTC\n",
    "    except Exception as e:\n",
    "        print(f\"Error executing query1: {str(e)}\")\n",
    "        return None\n",
    "        #raise HTTPException(status_code=400, detail=f\"Error executing query1: {str(e)}\")\n",
    "\n",
    "    \n",
    "    if not points:\n",
    "        print(\"No data returned from query1\")\n",
    "        return None\n",
    "        #raise HTTPException(status_code=400, detail=\"No data returned from query1\")\n",
    "    try:\n",
    "        # Log the column names\n",
    "        logging.debug(f\"Column names: {points[0].keys()}\")\n",
    "        # df1 = await delta_energy_dataframe(points)\n",
    "        df1 = delta_energy_dataframe(points)\n",
    "        logging.debug(\"Query_1 delta_energy_dataframe executed successfully\")               \n",
    "    except:\n",
    "        print(\"Error processing query1\")\n",
    "        return None\n",
    "        #raise HTTPException(status_code=400, detail=\"Error processing query1\")    \n",
    "    # Optional second query\n",
    "    if str_query2 is not None:\n",
    "        result = client.query(str_query2)\n",
    "        logging.debug(\"Query_2 executed successfully\")\n",
    "\n",
    "        # Convert the result to a DataFrame\n",
    "        points = list(result.get_points())\n",
    "        if not points:\n",
    "            # raise HTTPException(status_code=400, detail=\"No data returned from query2\")\n",
    "            logging.debug(\"Query_2 has not points\")\n",
    "            df = df1\n",
    "            df.reset_index(inplace=True) \n",
    "        else:\n",
    "            logging.debug(\"Query_2 has points\")\n",
    "            try:\n",
    "                # df2 = await delta_energy_dataframe(points)\n",
    "                df2 = delta_energy_dataframe(points)\n",
    "                logging.info(\"Query_2 delta_energy_dataframe executed successfully\")\n",
    "                # Merge DataFrames\n",
    "                df = pd.merge(df1, df2, left_index=True, right_index=True, how='outer')\n",
    "                logging.debug(\"df = pd.merge(df1, df2, left_index=True, right_index=True, how='outer') OK\")\n",
    "                # The next line is replaced because Prophet can manage perfectly the NaN values\n",
    "                # df['delta_energy'] = df['delta_energy_x'].fillna(0) + df['delta_energy_y'].fillna(0) # Sum the columns and fill NaN with the present values\n",
    "                df['delta_energy'] = df['delta_energy_x'] + df['delta_energy_y'] # Sum the columns     \n",
    "                df.reset_index(inplace=True)                 \n",
    "                df = df[['time', 'delta_energy']]\n",
    "                logging.debug(\"df = df[['time', 'delta_energy']] OK\")\n",
    "            except Exception as e:\n",
    "                            logging.debug(f\"Error processing dataframes in query2: {str(e)}\")\n",
    "                            return None\n",
    "                            # raise HTTPException(status_code=400, detail=f\"Error processing query2: {str(e)}\")             \n",
    "    else:\n",
    "        df = df1\n",
    "        df.reset_index(inplace=True)\n",
    "    # Validate that the DataFrame is not empty\n",
    "    if df is None or df.empty:\n",
    "        print(\"No InfluxDB data returned\")\n",
    "        return None\n",
    "        # raise HTTPException(status_code=400, detail=\"No InfluxDB data returned\")\n",
    "    \n",
    "    # Validate that the DataFrame has exactly two columns\n",
    "    if df.shape[1] != 2:\n",
    "        print(\"Expected two columns 'time' and the query value\")\n",
    "        return None\n",
    "        # raise HTTPException(status_code=400, detail=\"Expected two columns 'time' and the query value\")\n",
    "\n",
    "    try:\n",
    "        # Assign names to the columns\n",
    "        df.columns = ['ds', 'y']\n",
    "\n",
    "        # Configure and train the Prophet model\n",
    "        model = Prophet()\n",
    "        model.fit(df)\n",
    "        future = model.make_future_dataframe(periods=futurePeriods, freq=futureFreq)\n",
    "        forecast = model.predict(future)\n",
    "        forecast=forecast.tail(futurePeriods)\n",
    "\n",
    "        # Convert dates to ISO format with timezone and create the output dictionary\n",
    "        forecast['ds'] = pd.to_datetime(forecast['ds']).dt.tz_localize('UTC')\n",
    "        forecast = forecast.set_index('ds')\n",
    "        response = forecast.to_dict()['yhat'] \n",
    "\n",
    "        return response\n",
    "    except Exception as e:\n",
    "        logging.error(f\"Error processing Prophet model: {e}\")\n",
    "        return None\n",
    "        # raise HTTPException(status_code=500, detail=str(e))\n"
   ]
  },
  {
   "cell_type": "markdown",
   "metadata": {},
   "source": [
    "# Probar las funciones que se llevarán al contenedor\n",
    "El contenedor recibirá una petición en su puerto 5000 y FastAPI estará escuchando.\n",
    "La función `post_energy_queries` simula que FastAPI recibe una llamada en el endpoint `energy_queries`"
   ]
  },
  {
   "cell_type": "code",
   "execution_count": 570,
   "metadata": {},
   "outputs": [
    {
     "name": "stderr",
     "output_type": "stream",
     "text": [
      "DEBUG:cmdstanpy:cmd: where.exe tbb.dll\n",
      "cwd: None\n",
      "DEBUG:cmdstanpy:TBB already found in load path\n",
      "INFO:prophet:Disabling yearly seasonality. Run prophet with yearly_seasonality=True to override this.\n",
      "DEBUG:cmdstanpy:input tempfile: C:\\Users\\Enrique\\AppData\\Local\\Temp\\tmpqishzjp0\\fkz540a6.json\n",
      "DEBUG:cmdstanpy:input tempfile: C:\\Users\\Enrique\\AppData\\Local\\Temp\\tmpqishzjp0\\dyhi8m51.json\n",
      "DEBUG:cmdstanpy:idx 0\n",
      "DEBUG:cmdstanpy:running CmdStan, num_threads: None\n",
      "DEBUG:cmdstanpy:CmdStan args: ['C:\\\\vmware_share\\\\tfg_dev_env\\\\venv\\\\Lib\\\\site-packages\\\\prophet\\\\stan_model\\\\prophet_model.bin', 'random', 'seed=40865', 'data', 'file=C:\\\\Users\\\\Enrique\\\\AppData\\\\Local\\\\Temp\\\\tmpqishzjp0\\\\fkz540a6.json', 'init=C:\\\\Users\\\\Enrique\\\\AppData\\\\Local\\\\Temp\\\\tmpqishzjp0\\\\dyhi8m51.json', 'output', 'file=C:\\\\Users\\\\Enrique\\\\AppData\\\\Local\\\\Temp\\\\tmpqishzjp0\\\\prophet_modelw74gflgr\\\\prophet_model-20241108230418.csv', 'method=optimize', 'algorithm=lbfgs', 'iter=10000']\n",
      "23:04:18 - cmdstanpy - INFO - Chain [1] start processing\n",
      "INFO:cmdstanpy:Chain [1] start processing\n",
      "23:04:18 - cmdstanpy - INFO - Chain [1] done processing\n",
      "INFO:cmdstanpy:Chain [1] done processing\n"
     ]
    },
    {
     "data": {
      "text/plain": [
       "{Timestamp('2024-11-08 22:00:00+0000', tz='UTC'): 0.14945650670632912,\n",
       " Timestamp('2024-11-08 23:00:00+0000', tz='UTC'): 0.13541662233694385,\n",
       " Timestamp('2024-11-09 00:00:00+0000', tz='UTC'): 0.11045523714924674,\n",
       " Timestamp('2024-11-09 01:00:00+0000', tz='UTC'): 0.07564574658150518,\n",
       " Timestamp('2024-11-09 02:00:00+0000', tz='UTC'): 0.050036779963034406,\n",
       " Timestamp('2024-11-09 03:00:00+0000', tz='UTC'): 0.05604441154587263,\n",
       " Timestamp('2024-11-09 04:00:00+0000', tz='UTC'): 0.09681976646728385,\n",
       " Timestamp('2024-11-09 05:00:00+0000', tz='UTC'): 0.14919419383649224,\n",
       " Timestamp('2024-11-09 06:00:00+0000', tz='UTC'): 0.18181549669520153,\n",
       " Timestamp('2024-11-09 07:00:00+0000', tz='UTC'): 0.1828654266815276,\n",
       " Timestamp('2024-11-09 08:00:00+0000', tz='UTC'): 0.17069591774430706,\n",
       " Timestamp('2024-11-09 09:00:00+0000', tz='UTC'): 0.17591108329328523}"
      ]
     },
     "execution_count": 570,
     "metadata": {},
     "output_type": "execute_result"
    }
   ],
   "source": [
    "end=datetime.now()\n",
    "entity_id1 = \"victron_vebus_acin1toacout_228\"\n",
    "str_query1 = energy_query_string(entity_id1, end=end)\n",
    "entity_id2 = \"victron_vebus_invertertoacout_228\"\n",
    "str_query2 = energy_query_string(entity_id2, end=end)\n",
    "energy_query_data = {\n",
    "    \"str_query1\": str_query1,\n",
    "    \"str_query2\": str_query2,\n",
    "    \"influx_host\": \"192.168.0.100\",\n",
    "    \"influx_port\": 8086,\n",
    "    \"influx_user\": \"homeassistant\",\n",
    "    \"influx_password\": password,\n",
    "    \"influx_dbname\": \"homeassistant\",\n",
    "    \"futurePeriods\": 12\n",
    "}\n",
    "\n",
    "response= post_energy_queries(str_query1, str_query2, futurePeriods=12, futureFreq='h')\n",
    "response"
   ]
  },
  {
   "cell_type": "markdown",
   "metadata": {},
   "source": [
    "## Simular como recibe esto el custom component"
   ]
  },
  {
   "cell_type": "code",
   "execution_count": 571,
   "metadata": {},
   "outputs": [
    {
     "data": {
      "text/plain": [
       "{'2024-11-08T23:00:00': 0.14945650670632912,\n",
       " '2024-11-09T00:00:00': 0.13541662233694385,\n",
       " '2024-11-09T01:00:00': 0.11045523714924674,\n",
       " '2024-11-09T02:00:00': 0.07564574658150518,\n",
       " '2024-11-09T03:00:00': 0.050036779963034406,\n",
       " '2024-11-09T04:00:00': 0.05604441154587263,\n",
       " '2024-11-09T05:00:00': 0.09681976646728385,\n",
       " '2024-11-09T06:00:00': 0.14919419383649224,\n",
       " '2024-11-09T07:00:00': 0.18181549669520153,\n",
       " '2024-11-09T08:00:00': 0.1828654266815276,\n",
       " '2024-11-09T09:00:00': 0.17069591774430706,\n",
       " '2024-11-09T10:00:00': 0.17591108329328523}"
      ]
     },
     "execution_count": 571,
     "metadata": {},
     "output_type": "execute_result"
    }
   ],
   "source": [
    "# Cuando el custom component reciba estos datos deberá convertirlos a la hora local definida en class_local_timezone \n",
    "cc_response = {str(k): v for k, v in response.items()}\n",
    "# Convertir las claves a la hora local\n",
    "cc_response = {pd.to_datetime(k).tz_convert(class_local_timezone).strftime('%Y-%m-%dT%H:%M:%S'): v for k, v in cc_response.items()}\n",
    "cc_response"
   ]
  },
  {
   "cell_type": "markdown",
   "metadata": {},
   "source": [
    "# Instalar el Addon y probarlo\n",
    "Una vez desarrollado el Addon en instalado en la maquina de producción vamos a hacer algunas pruebas\n"
   ]
  },
  {
   "cell_type": "code",
   "execution_count": 572,
   "metadata": {},
   "outputs": [],
   "source": [
    "import requests\n",
    "from datetime import datetime, timedelta\n",
    "import pandas as pd\n",
    "import pytz\n",
    "\n",
    "base_url = \"http://192.168.0.100:5000\" # Raspeberry Pi (HA OS) runs the container"
   ]
  },
  {
   "cell_type": "markdown",
   "metadata": {},
   "source": [
    "## Endpoint `/forecast`\n",
    "Este endpoint sirve para poder enviar datos generados fuera de InfluxDB y utilizar Prophet para realizar predicciones"
   ]
  },
  {
   "cell_type": "code",
   "execution_count": 573,
   "metadata": {},
   "outputs": [
    {
     "name": "stdout",
     "output_type": "stream",
     "text": [
      "Forecast response:\n"
     ]
    },
    {
     "data": {
      "text/plain": [
       "{'2023-01-04T00:00:00': 25.000000000000004,\n",
       " '2023-01-05T00:00:00': 30.000000000000004,\n",
       " '2023-01-06T00:00:00': 35.00000000000001,\n",
       " '2023-01-07T00:00:00': 40.00000000000001}"
      ]
     },
     "execution_count": 573,
     "metadata": {},
     "output_type": "execute_result"
    }
   ],
   "source": [
    "forecast_data = {\n",
    "    \"data\": [\n",
    "        {\"ds\": \"2023-01-01\", \"y\": 10},\n",
    "        {\"ds\": \"2023-01-02\", \"y\": 15},\n",
    "        {\"ds\": \"2023-01-03\", \"y\": 20}\n",
    "    ],\n",
    "    \"futurePeriods\": 4,\n",
    "    \"futureFreq\": \"d\"\n",
    "}\n",
    "\n",
    "\n",
    "\n",
    "# Send POST request to the /forecast endpoint\n",
    "response = requests.post(f\"{base_url}/forecast\", json=forecast_data)\n",
    "print(\"Forecast response:\")\n",
    "response.json()"
   ]
  },
  {
   "cell_type": "markdown",
   "metadata": {},
   "source": [
    "## Endpoint `/query`\n",
    "Este endpoint sirve para enviar consultas a InfluxDB en formato InfluxQL que entrenaran el modelo para obtener las predicciones. \n",
    "Observar que la primera hora del pronostico es la hora siguiente al endtime. Se destaca aquí este hecho ya que en el endpoint para consultas de energía el funcionamiento es diferente ya que la primera hora de la predicción es siempre la hora actual.\n",
    "Este comportamiento es fácilmente modificable por el usuario del endpoint `query` estableciendo el endtime justo en el periodo anterior, de forma que su utilización es lo más versátil posible.\n"
   ]
  },
  {
   "cell_type": "code",
   "execution_count": 574,
   "metadata": {},
   "outputs": [
    {
     "name": "stdout",
     "output_type": "stream",
     "text": [
      "Query response: {'2024-11-08T23:00:00+00:00': 0.06280486358319361, '2024-11-09T00:00:00+00:00': 0.03815210398633587, '2024-11-09T01:00:00+00:00': 0.03553432748188681, '2024-11-09T02:00:00+00:00': 0.05658515625965661, '2024-11-09T03:00:00+00:00': 0.07569617215937173, '2024-11-09T04:00:00+00:00': 0.06993644302457604, '2024-11-09T05:00:00+00:00': 0.045332521177274765, '2024-11-09T06:00:00+00:00': 0.03266792097070231, '2024-11-09T07:00:00+00:00': 0.05824566909020645, '2024-11-09T08:00:00+00:00': 0.1203613875081368}\n",
      "\n",
      "\n",
      "Query response local timezone:\n"
     ]
    },
    {
     "data": {
      "text/plain": [
       "{'2024-11-09T00:00:00': 0.06280486358319361,\n",
       " '2024-11-09T01:00:00': 0.03815210398633587,\n",
       " '2024-11-09T02:00:00': 0.03553432748188681,\n",
       " '2024-11-09T03:00:00': 0.05658515625965661,\n",
       " '2024-11-09T04:00:00': 0.07569617215937173,\n",
       " '2024-11-09T05:00:00': 0.06993644302457604,\n",
       " '2024-11-09T06:00:00': 0.045332521177274765,\n",
       " '2024-11-09T07:00:00': 0.03266792097070231,\n",
       " '2024-11-09T08:00:00': 0.05824566909020645,\n",
       " '2024-11-09T09:00:00': 0.1203613875081368}"
      ]
     },
     "execution_count": 574,
     "metadata": {},
     "output_type": "execute_result"
    }
   ],
   "source": [
    "end=datetime.now() # La primera predicción será para la hora siguiente\n",
    "#end=datetime.now()-timedelta(hours=1) # La primera predicción será para la hora actual\n",
    "start=end-timedelta(days=10)\n",
    "entity_id1 = \"energy_current_hour\"\n",
    "str_query = energy_query_string(entity_id1, start=start, end=end)\n",
    "# El parámetro futureFreq es opcional y por defecto es 'h'. Se puede cambiar a 'd' para predecir días.\n",
    "# En el caso del custom component siempre estaremos interesados en valores por horas.\n",
    "query_data = {\n",
    "    \"str_query\": str_query,\n",
    "    \"futurePeriods\": 10,\n",
    "    \"futureFreq\": \"h\"\n",
    "}\n",
    "\n",
    "# Send request POST endpoint /query\n",
    "response = requests.post(f\"{base_url}/query\", json=query_data)\n",
    "if response.status_code == 200:\n",
    "    print(\"Query response:\", response.json())\n",
    "    cc_response = {str(k): v for k, v in response.json().items()}\n",
    "    cc_response = {pd.to_datetime(k).tz_convert(class_local_timezone)\\\n",
    "                    .strftime('%Y-%m-%dT%H:%M:%S'): v for k, v in cc_response.items()}\n",
    "    print()\n",
    "    print(\"\\nQuery response local timezone:\")        \n",
    "else:\n",
    "    print(f\"Request failed with status code {response.status_code}\")\n",
    "cc_response"
   ]
  },
  {
   "cell_type": "markdown",
   "metadata": {},
   "source": [
    "## Endpoint `/energy_queries`\n",
    "Este endpoint sirve para enviar consultas a InfluxDB en formato InfluxQL que entrenaran el modelo para obtener las predicciones. Está especialmente pensado para valores de energia que se registran de forma acumulada al estilo de un contador tradicional. Dado que el interés de cara al custom component es conocer la energía que se consumira durante periodos de una hora, se ha creado esta funcionalidad particular. Ademas permite la definición de dos consultas por si los valores de interes estuviesen en dos sensores diferentes como sucede en el caso de los inversores Victron, donde no existe un sensor de energía (sí de potencia) que mida la energía total consumida y es por tanto es necesario sumar el valor de dos sensores. \n",
    "Observar que la primera hora del pronostico es la hora correspondiente al endtime. Al contrario de como se definió en el endpoint  `query` se ha considerado más oportuno trabajar solo con datos consolidados de manera predeterminada. \n",
    "En principio la intención es que el parámetro start sea siempre None para que el modelo se entrene con todos los datos disponibles en InfluxDB."
   ]
  },
  {
   "cell_type": "code",
   "execution_count": 575,
   "metadata": {},
   "outputs": [
    {
     "name": "stdout",
     "output_type": "stream",
     "text": [
      "Energy Queries response: {'2024-11-08T22:00:00+00:00': 0.14942238499922278, '2024-11-08T23:00:00+00:00': 0.13538239799336343, '2024-11-09T00:00:00+00:00': 0.11042098520830575, '2024-11-09T01:00:00+00:00': 0.07561155762237923, '2024-11-09T02:00:00+00:00': 0.05000265432348605, '2024-11-09T03:00:00+00:00': 0.056010243564897796, '2024-11-09T04:00:00+00:00': 0.09678544110338685, '2024-11-09T05:00:00+00:00': 0.14915970305182477, '2024-11-09T06:00:00+00:00': 0.1817809595752254, '2024-11-09T07:00:00+00:00': 0.18283098984139967, '2024-11-09T08:00:00+00:00': 0.17066162961810905, '2024-11-09T09:00:00+00:00': 0.1758768611271522}\n",
      "\n",
      "Energy Queries response local timezone:\n"
     ]
    },
    {
     "data": {
      "text/plain": [
       "{'2024-11-08T23:00:00': 0.14942238499922278,\n",
       " '2024-11-09T00:00:00': 0.13538239799336343,\n",
       " '2024-11-09T01:00:00': 0.11042098520830575,\n",
       " '2024-11-09T02:00:00': 0.07561155762237923,\n",
       " '2024-11-09T03:00:00': 0.05000265432348605,\n",
       " '2024-11-09T04:00:00': 0.056010243564897796,\n",
       " '2024-11-09T05:00:00': 0.09678544110338685,\n",
       " '2024-11-09T06:00:00': 0.14915970305182477,\n",
       " '2024-11-09T07:00:00': 0.1817809595752254,\n",
       " '2024-11-09T08:00:00': 0.18283098984139967,\n",
       " '2024-11-09T09:00:00': 0.17066162961810905,\n",
       " '2024-11-09T10:00:00': 0.1758768611271522}"
      ]
     },
     "execution_count": 575,
     "metadata": {},
     "output_type": "execute_result"
    }
   ],
   "source": [
    "end=datetime.now()\n",
    "start=end-timedelta(days=10)\n",
    "entity_id1 = \"victron_vebus_acin1toacout_228\"\n",
    "str_query1 = energy_query_string(entity_id1, start=None, end=end)\n",
    "entity_id2 = \"victron_vebus_invertertoacout_228\"\n",
    "str_query2 = energy_query_string(entity_id2, start=None, end=end)\n",
    "# El parámetro str_query2 es opcional. Si no se especifica se devolverá solo la predicción tomando los datos para el entrenamiento de str_query1\n",
    "energy_query_data = {\n",
    "    \"str_query1\": str_query1,\n",
    "    \"str_query2\": str_query2,\n",
    "    \"futurePeriods\": 12,\n",
    "    \"futureFreq\": \"h\"\n",
    "}\n",
    "\n",
    "# Send Request POST endpoint /energy_queries\n",
    "response = requests.post(f\"{base_url}/energy_queries\", json=energy_query_data)\n",
    "if response.status_code == 200:\n",
    "    print(\"Energy Queries response:\", response.json())\n",
    "    cc_response = {str(k): v for k, v in response.json().items()}\n",
    "    cc_response = {pd.to_datetime(k).tz_convert(class_local_timezone)\\\n",
    "                    .strftime('%Y-%m-%dT%H:%M:%S'): v for k, v in cc_response.items()}\n",
    "    print(\"\\nEnergy Queries response local timezone:\")\n",
    "else:\n",
    "    print(f\"Request failed with status code {response.status_code}\")\n",
    "cc_response"
   ]
  }
 ],
 "metadata": {
  "kernelspec": {
   "display_name": "venv",
   "language": "python",
   "name": "python3"
  },
  "language_info": {
   "codemirror_mode": {
    "name": "ipython",
    "version": 3
   },
   "file_extension": ".py",
   "mimetype": "text/x-python",
   "name": "python",
   "nbconvert_exporter": "python",
   "pygments_lexer": "ipython3",
   "version": "3.12.6"
  }
 },
 "nbformat": 4,
 "nbformat_minor": 2
}
